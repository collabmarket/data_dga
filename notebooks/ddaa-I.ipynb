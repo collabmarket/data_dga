{
 "cells": [
  {
   "cell_type": "code",
   "execution_count": 1,
   "metadata": {
    "collapsed": true
   },
   "outputs": [],
   "source": [
    "from IPython.display import display, HTML"
   ]
  },
  {
   "cell_type": "code",
   "execution_count": 2,
   "metadata": {
    "collapsed": true
   },
   "outputs": [],
   "source": [
    "%run ../ddaa.py"
   ]
  },
  {
   "cell_type": "code",
   "execution_count": 3,
   "metadata": {
    "collapsed": true
   },
   "outputs": [],
   "source": [
    "# Region a analizar\n",
    "region = 'I'"
   ]
  },
  {
   "cell_type": "code",
   "execution_count": 4,
   "metadata": {
    "collapsed": false
   },
   "outputs": [],
   "source": [
    "# Genera DataFrame con ddaa\n",
    "meta = open_meta()\n",
    "df = open_ddaa(meta['path'][region])"
   ]
  },
  {
   "cell_type": "code",
   "execution_count": 5,
   "metadata": {
    "collapsed": false
   },
   "outputs": [],
   "source": [
    "# Derechos agrupados por provincia\n",
    "gb = df.groupby(u'Provincia')"
   ]
  },
  {
   "cell_type": "code",
   "execution_count": 6,
   "metadata": {
    "collapsed": false,
    "scrolled": false
   },
   "outputs": [
    {
     "data": {
      "text/html": [
       "<center><h2>Top 10 derechos otorgados Iquique</h2></center>"
      ],
      "text/plain": [
       "<IPython.core.display.HTML object>"
      ]
     },
     "metadata": {},
     "output_type": "display_data"
    },
    {
     "data": {
      "text/html": [
       "<div>\n",
       "<table border=\"1\" class=\"dataframe\">\n",
       "  <thead>\n",
       "    <tr style=\"text-align: right;\">\n",
       "      <th></th>\n",
       "      <th>Nombre Solicitante</th>\n",
       "      <th>Caudal AnualProm</th>\n",
       "    </tr>\n",
       "    <tr>\n",
       "      <th>Fecha de Resolución Envío al Juez Inscripción C.B.R.</th>\n",
       "      <th></th>\n",
       "      <th></th>\n",
       "    </tr>\n",
       "  </thead>\n",
       "  <tbody>\n",
       "    <tr>\n",
       "      <th>1924-02-19</th>\n",
       "      <td>T. BLAULOT         Y OTROS</td>\n",
       "      <td>1000.0</td>\n",
       "    </tr>\n",
       "    <tr>\n",
       "      <th>1977-09-12</th>\n",
       "      <td>PROSPECTO MINERO CODELCO</td>\n",
       "      <td>840.0</td>\n",
       "    </tr>\n",
       "    <tr>\n",
       "      <th>1908-12-26</th>\n",
       "      <td>RAMON BARRIO</td>\n",
       "      <td>500.0</td>\n",
       "    </tr>\n",
       "    <tr>\n",
       "      <th>1991-01-01</th>\n",
       "      <td>ORLANDO CALLPA ZAMORA</td>\n",
       "      <td>318.0</td>\n",
       "    </tr>\n",
       "    <tr>\n",
       "      <th>1967-02-13</th>\n",
       "      <td>SOC.MINERA CERRO COLORADO DE NAMIDA</td>\n",
       "      <td>300.0</td>\n",
       "    </tr>\n",
       "    <tr>\n",
       "      <th>1966-04-12</th>\n",
       "      <td>JAMES KNIGHLY WILSON</td>\n",
       "      <td>300.0</td>\n",
       "    </tr>\n",
       "    <tr>\n",
       "      <th>1991-01-01</th>\n",
       "      <td>LEOCADIA ZAMORA V.</td>\n",
       "      <td>241.0</td>\n",
       "    </tr>\n",
       "    <tr>\n",
       "      <th>1991-01-31</th>\n",
       "      <td>COMPAÑIA MINERA QUEBRADA BLANCA S.A.</td>\n",
       "      <td>240.8</td>\n",
       "    </tr>\n",
       "    <tr>\n",
       "      <th>1991-01-01</th>\n",
       "      <td>CLAUDINA GOMEZ AMARO</td>\n",
       "      <td>217.0</td>\n",
       "    </tr>\n",
       "    <tr>\n",
       "      <th>2009-06-25</th>\n",
       "      <td>DIOGENA NORMA LARAMA SANDOVAL</td>\n",
       "      <td>193.0</td>\n",
       "    </tr>\n",
       "  </tbody>\n",
       "</table>\n",
       "</div>"
      ],
      "text/plain": [
       "                                                                      Nombre Solicitante  \\\n",
       "Fecha de Resolución Envío al Juez Inscripción C...                                         \n",
       "1924-02-19                                                    T. BLAULOT         Y OTROS   \n",
       "1977-09-12                                                      PROSPECTO MINERO CODELCO   \n",
       "1908-12-26                                                                  RAMON BARRIO   \n",
       "1991-01-01                                                         ORLANDO CALLPA ZAMORA   \n",
       "1967-02-13                                           SOC.MINERA CERRO COLORADO DE NAMIDA   \n",
       "1966-04-12                                                          JAMES KNIGHLY WILSON   \n",
       "1991-01-01                                                            LEOCADIA ZAMORA V.   \n",
       "1991-01-31                                          COMPAÑIA MINERA QUEBRADA BLANCA S.A.   \n",
       "1991-01-01                                                          CLAUDINA GOMEZ AMARO   \n",
       "2009-06-25                                                 DIOGENA NORMA LARAMA SANDOVAL   \n",
       "\n",
       "                                                    Caudal AnualProm  \n",
       "Fecha de Resolución Envío al Juez Inscripción C...                    \n",
       "1924-02-19                                                    1000.0  \n",
       "1977-09-12                                                     840.0  \n",
       "1908-12-26                                                     500.0  \n",
       "1991-01-01                                                     318.0  \n",
       "1967-02-13                                                     300.0  \n",
       "1966-04-12                                                     300.0  \n",
       "1991-01-01                                                     241.0  \n",
       "1991-01-31                                                     240.8  \n",
       "1991-01-01                                                     217.0  \n",
       "2009-06-25                                                     193.0  "
      ]
     },
     "metadata": {},
     "output_type": "display_data"
    },
    {
     "data": {
      "image/png": "[encoded data removed]",
      "text/plain": [
       "<matplotlib.figure.Figure at 0xa3ff4a8>"
      ]
     },
     "metadata": {},
     "output_type": "display_data"
    },
    {
     "data": {
      "text/html": [
       "<center><h2>Top 10 derechos otorgados Del Tamarugal</h2></center>"
      ],
      "text/plain": [
       "<IPython.core.display.HTML object>"
      ]
     },
     "metadata": {},
     "output_type": "display_data"
    },
    {
     "data": {
      "text/html": [
       "<div>\n",
       "<table border=\"1\" class=\"dataframe\">\n",
       "  <thead>\n",
       "    <tr style=\"text-align: right;\">\n",
       "      <th></th>\n",
       "      <th>Nombre Solicitante</th>\n",
       "      <th>Caudal AnualProm</th>\n",
       "    </tr>\n",
       "    <tr>\n",
       "      <th>Fecha de Resolución Envío al Juez Inscripción C.B.R.</th>\n",
       "      <th></th>\n",
       "      <th></th>\n",
       "    </tr>\n",
       "  </thead>\n",
       "  <tbody>\n",
       "    <tr>\n",
       "      <th>1991-01-01</th>\n",
       "      <td>SILVANA GONZALEZ GONZALEZ</td>\n",
       "      <td>231.0</td>\n",
       "    </tr>\n",
       "    <tr>\n",
       "      <th>1991-01-01</th>\n",
       "      <td>MARIANELA MIRANDA ANDRADE</td>\n",
       "      <td>231.0</td>\n",
       "    </tr>\n",
       "    <tr>\n",
       "      <th>1991-01-01</th>\n",
       "      <td>ABDON MAMANI GARCIA</td>\n",
       "      <td>97.0</td>\n",
       "    </tr>\n",
       "    <tr>\n",
       "      <th>2010-06-07</th>\n",
       "      <td>HIPOLITO COPA GARCIA</td>\n",
       "      <td>84.0</td>\n",
       "    </tr>\n",
       "    <tr>\n",
       "      <th>1991-01-01</th>\n",
       "      <td>SOFIA SALAZAR ZAMORA</td>\n",
       "      <td>84.0</td>\n",
       "    </tr>\n",
       "    <tr>\n",
       "      <th>1991-11-15</th>\n",
       "      <td>PABLA SALAZAR</td>\n",
       "      <td>67.0</td>\n",
       "    </tr>\n",
       "    <tr>\n",
       "      <th>1991-01-01</th>\n",
       "      <td>GREGORIA SALAZAR ZAMORA</td>\n",
       "      <td>61.0</td>\n",
       "    </tr>\n",
       "    <tr>\n",
       "      <th>2009-03-31</th>\n",
       "      <td>NORMA ROXANA CHAMBE PLATERO</td>\n",
       "      <td>60.0</td>\n",
       "    </tr>\n",
       "    <tr>\n",
       "      <th>1991-01-01</th>\n",
       "      <td>OSVALDO CHACAMA SALAZAR</td>\n",
       "      <td>36.0</td>\n",
       "    </tr>\n",
       "    <tr>\n",
       "      <th>1991-01-01</th>\n",
       "      <td>ERNESTO PEÑARANDA PINO</td>\n",
       "      <td>26.0</td>\n",
       "    </tr>\n",
       "  </tbody>\n",
       "</table>\n",
       "</div>"
      ],
      "text/plain": [
       "                                                             Nombre Solicitante  \\\n",
       "Fecha de Resolución Envío al Juez Inscripción C...                                \n",
       "1991-01-01                                            SILVANA GONZALEZ GONZALEZ   \n",
       "1991-01-01                                            MARIANELA MIRANDA ANDRADE   \n",
       "1991-01-01                                                  ABDON MAMANI GARCIA   \n",
       "2010-06-07                                                 HIPOLITO COPA GARCIA   \n",
       "1991-01-01                                                 SOFIA SALAZAR ZAMORA   \n",
       "1991-11-15                                                        PABLA SALAZAR   \n",
       "1991-01-01                                              GREGORIA SALAZAR ZAMORA   \n",
       "2009-03-31                                          NORMA ROXANA CHAMBE PLATERO   \n",
       "1991-01-01                                              OSVALDO CHACAMA SALAZAR   \n",
       "1991-01-01                                               ERNESTO PEÑARANDA PINO   \n",
       "\n",
       "                                                    Caudal AnualProm  \n",
       "Fecha de Resolución Envío al Juez Inscripción C...                    \n",
       "1991-01-01                                                     231.0  \n",
       "1991-01-01                                                     231.0  \n",
       "1991-01-01                                                      97.0  \n",
       "2010-06-07                                                      84.0  \n",
       "1991-01-01                                                      84.0  \n",
       "1991-11-15                                                      67.0  \n",
       "1991-01-01                                                      61.0  \n",
       "2009-03-31                                                      60.0  \n",
       "1991-01-01                                                      36.0  \n",
       "1991-01-01                                                      26.0  "
      ]
     },
     "metadata": {},
     "output_type": "display_data"
    },
    {
     "data": {
      "image/png": "[encoded data removed]",
      "text/plain": [
       "<matplotlib.figure.Figure at 0xa276f28>"
      ]
     },
     "metadata": {},
     "output_type": "display_data"
    }
   ],
   "source": [
    "for p in gb.groups.keys():\n",
    "    \n",
    "    display(HTML('<center><h2>Top 10 derechos otorgados %s</h2></center>'%p))\n",
    "    display(top_ddaa(gb.get_group(p), n=10))\n",
    "    ax = gb.get_group(p)[short['caudal']].plot(title='Derechos otorgados %s'%p, style='x', figsize=(15, 7.5))\n",
    "    zoom(ax)\n",
    "    plt.show()"
   ]
  },
  {
   "cell_type": "code",
   "execution_count": 7,
   "metadata": {
    "collapsed": false
   },
   "outputs": [
    {
     "data": {
      "text/html": [
       "<div>\n",
       "<table border=\"1\" class=\"dataframe\">\n",
       "  <thead>\n",
       "    <tr style=\"text-align: right;\">\n",
       "      <th></th>\n",
       "      <th>Naturaleza del Agua</th>\n",
       "      <th>Ejercicio del Derecho</th>\n",
       "      <th>Tipo Derecho</th>\n",
       "      <th>Nombre Solicitante</th>\n",
       "      <th>Clasificación Fuente</th>\n",
       "      <th>Caudal AnualProm</th>\n",
       "    </tr>\n",
       "    <tr>\n",
       "      <th>Fecha de Resolución Envío al Juez Inscripción C.B.R.</th>\n",
       "      <th></th>\n",
       "      <th></th>\n",
       "      <th></th>\n",
       "      <th></th>\n",
       "      <th></th>\n",
       "      <th></th>\n",
       "    </tr>\n",
       "  </thead>\n",
       "  <tbody>\n",
       "    <tr>\n",
       "      <th>1997-07-22</th>\n",
       "      <td>Subterranea</td>\n",
       "      <td>Permanente y Continuo</td>\n",
       "      <td>Consuntivo</td>\n",
       "      <td>FISCO EJERCITO DE CHILE</td>\n",
       "      <td>Acuifero</td>\n",
       "      <td>40.0</td>\n",
       "    </tr>\n",
       "    <tr>\n",
       "      <th>1997-07-22</th>\n",
       "      <td>Subterranea</td>\n",
       "      <td>Permanente y Continuo</td>\n",
       "      <td>Consuntivo</td>\n",
       "      <td>FISCO EJERCITO DE CHILE</td>\n",
       "      <td>Acuifero</td>\n",
       "      <td>40.0</td>\n",
       "    </tr>\n",
       "    <tr>\n",
       "      <th>2004-10-29</th>\n",
       "      <td>Subterranea</td>\n",
       "      <td>Permanente y Continuo</td>\n",
       "      <td>Consuntivo</td>\n",
       "      <td>FISCO EJERCITO DE CHILE</td>\n",
       "      <td>Acuifero</td>\n",
       "      <td>40.0</td>\n",
       "    </tr>\n",
       "  </tbody>\n",
       "</table>\n",
       "</div>"
      ],
      "text/plain": [
       "                                                   Naturaleza del Agua  \\\n",
       "Fecha de Resolución Envío al Juez Inscripción C...                       \n",
       "1997-07-22                                                 Subterranea   \n",
       "1997-07-22                                                 Subterranea   \n",
       "2004-10-29                                                 Subterranea   \n",
       "\n",
       "                                                    Ejercicio del Derecho  \\\n",
       "Fecha de Resolución Envío al Juez Inscripción C...                          \n",
       "1997-07-22                                          Permanente y Continuo   \n",
       "1997-07-22                                          Permanente y Continuo   \n",
       "2004-10-29                                          Permanente y Continuo   \n",
       "\n",
       "                                                   Tipo Derecho  \\\n",
       "Fecha de Resolución Envío al Juez Inscripción C...                \n",
       "1997-07-22                                           Consuntivo   \n",
       "1997-07-22                                           Consuntivo   \n",
       "2004-10-29                                           Consuntivo   \n",
       "\n",
       "                                                         Nombre Solicitante  \\\n",
       "Fecha de Resolución Envío al Juez Inscripción C...                            \n",
       "1997-07-22                                          FISCO EJERCITO DE CHILE   \n",
       "1997-07-22                                          FISCO EJERCITO DE CHILE   \n",
       "2004-10-29                                          FISCO EJERCITO DE CHILE   \n",
       "\n",
       "                                                   Clasificación Fuente  \\\n",
       "Fecha de Resolución Envío al Juez Inscripción C...                        \n",
       "1997-07-22                                                     Acuifero   \n",
       "1997-07-22                                                     Acuifero   \n",
       "2004-10-29                                                     Acuifero   \n",
       "\n",
       "                                                    Caudal AnualProm  \n",
       "Fecha de Resolución Envío al Juez Inscripción C...                    \n",
       "1997-07-22                                                      40.0  \n",
       "1997-07-22                                                      40.0  \n",
       "2004-10-29                                                      40.0  "
      ]
     },
     "execution_count": 7,
     "metadata": {},
     "output_type": "execute_result"
    }
   ],
   "source": [
    "busca(df, 'FISCO')"
   ]
  },
  {
   "cell_type": "code",
   "execution_count": 8,
   "metadata": {
    "collapsed": false
   },
   "outputs": [
    {
     "name": "stdout",
     "output_type": "stream",
     "text": [
      "Derechos reservados por el FISCO en la Region I:\n",
      "120.0 [l/s]\n"
     ]
    }
   ],
   "source": [
    "print 'Derechos reservados por el FISCO en la Region %s:' % region\n",
    "print '%s [l/s]' % busca(df, 'FISCO')[short['caudal']].sum()"
   ]
  },
  {
   "cell_type": "code",
   "execution_count": null,
   "metadata": {
    "collapsed": false
   },
   "outputs": [],
   "source": []
  }
 ],
 "metadata": {
  "kernelspec": {
   "display_name": "Python 2",
   "language": "python",
   "name": "python2"
  },
  "language_info": {
   "codemirror_mode": {
    "name": "ipython",
    "version": 2
   },
   "file_extension": ".py",
   "mimetype": "text/x-python",
   "name": "python",
   "nbconvert_exporter": "python",
   "pygments_lexer": "ipython2",
   "version": "2.7.11"
  }
 },
 "nbformat": 4,
 "nbformat_minor": 0
}
