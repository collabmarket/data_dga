{
 "cells": [
  {
   "cell_type": "code",
   "execution_count": 1,
   "metadata": {
    "collapsed": true
   },
   "outputs": [],
   "source": [
    "from IPython.display import display, HTML"
   ]
  },
  {
   "cell_type": "code",
   "execution_count": 2,
   "metadata": {
    "collapsed": true
   },
   "outputs": [],
   "source": [
    "%run ../ddaa.py"
   ]
  },
  {
   "cell_type": "code",
   "execution_count": 3,
   "metadata": {
    "collapsed": true
   },
   "outputs": [],
   "source": [
    "# Region a analizar\n",
    "region = 'IV'"
   ]
  },
  {
   "cell_type": "code",
   "execution_count": 4,
   "metadata": {
    "collapsed": false
   },
   "outputs": [],
   "source": [
    "# Genera DataFrame con ddaa\n",
    "meta = open_meta()\n",
    "df = open_ddaa(meta['path'][region])"
   ]
  },
  {
   "cell_type": "code",
   "execution_count": 6,
   "metadata": {
    "collapsed": false
   },
   "outputs": [],
   "source": [
    "# Derechos agrupados por provincia\n",
    "gb = df.groupby(u'Provincia')"
   ]
  },
  {
   "cell_type": "code",
   "execution_count": 7,
   "metadata": {
    "collapsed": false,
    "scrolled": false
   },
   "outputs": [
    {
     "data": {
      "text/html": [
       "<center><h2>Top 10 derechos otorgados Choapa</h2></center>"
      ],
      "text/plain": [
       "<IPython.core.display.HTML object>"
      ]
     },
     "metadata": {},
     "output_type": "display_data"
    },
    {
     "data": {
      "text/html": [
       "<div>\n",
       "<table border=\"1\" class=\"dataframe\">\n",
       "  <thead>\n",
       "    <tr style=\"text-align: right;\">\n",
       "      <th></th>\n",
       "      <th>Nombre Solicitante</th>\n",
       "      <th>Caudal AnualProm</th>\n",
       "    </tr>\n",
       "    <tr>\n",
       "      <th>Fecha de Resolución Envío al Juez Inscripción C.B.R.</th>\n",
       "      <th></th>\n",
       "      <th></th>\n",
       "    </tr>\n",
       "  </thead>\n",
       "  <tbody>\n",
       "    <tr>\n",
       "      <th>1914-03-07</th>\n",
       "      <td>RAFAEL UNDURRAGA</td>\n",
       "      <td>8000.0000</td>\n",
       "    </tr>\n",
       "    <tr>\n",
       "      <th>1917-06-04</th>\n",
       "      <td>BLAS OSSA</td>\n",
       "      <td>8000.0000</td>\n",
       "    </tr>\n",
       "    <tr>\n",
       "      <th>1914-03-07</th>\n",
       "      <td>RAFAEL UNDURRAGA</td>\n",
       "      <td>6000.0000</td>\n",
       "    </tr>\n",
       "    <tr>\n",
       "      <th>1914-03-07</th>\n",
       "      <td>RAFAEL UNDURRAGA</td>\n",
       "      <td>5000.0000</td>\n",
       "    </tr>\n",
       "    <tr>\n",
       "      <th>1981-01-16</th>\n",
       "      <td>RAFAEL UNDURRAGA</td>\n",
       "      <td>5000.0000</td>\n",
       "    </tr>\n",
       "    <tr>\n",
       "      <th>1999-05-07</th>\n",
       "      <td>FISCO, DIRECCION DE OBRAS HIDRAULICAS S/N S/N</td>\n",
       "      <td>4756.4688</td>\n",
       "    </tr>\n",
       "    <tr>\n",
       "      <th>1914-03-07</th>\n",
       "      <td>RAFAEL UNDURRAGA</td>\n",
       "      <td>4000.0000</td>\n",
       "    </tr>\n",
       "    <tr>\n",
       "      <th>2006-01-23</th>\n",
       "      <td>DIRECCION DE OBRAS HIDRAULICAS - REGION DE ARI...</td>\n",
       "      <td>2204.4647</td>\n",
       "    </tr>\n",
       "    <tr>\n",
       "      <th>1998-04-07</th>\n",
       "      <td>ANTOFAGASTA MINERALS S.A.</td>\n",
       "      <td>1782.5000</td>\n",
       "    </tr>\n",
       "    <tr>\n",
       "      <th>1998-04-07</th>\n",
       "      <td>ANTOFAGASTA MINERALS S.A.</td>\n",
       "      <td>1780.8333</td>\n",
       "    </tr>\n",
       "  </tbody>\n",
       "</table>\n",
       "</div>"
      ],
      "text/plain": [
       "                                                                                   Nombre Solicitante  \\\n",
       "Fecha de Resolución Envío al Juez Inscripción C...                                                      \n",
       "1914-03-07                                                                           RAFAEL UNDURRAGA   \n",
       "1917-06-04                                                                                  BLAS OSSA   \n",
       "1914-03-07                                                                           RAFAEL UNDURRAGA   \n",
       "1914-03-07                                                                           RAFAEL UNDURRAGA   \n",
       "1981-01-16                                                                           RAFAEL UNDURRAGA   \n",
       "1999-05-07                                              FISCO, DIRECCION DE OBRAS HIDRAULICAS S/N S/N   \n",
       "1914-03-07                                                                           RAFAEL UNDURRAGA   \n",
       "2006-01-23                                          DIRECCION DE OBRAS HIDRAULICAS - REGION DE ARI...   \n",
       "1998-04-07                                                                  ANTOFAGASTA MINERALS S.A.   \n",
       "1998-04-07                                                                  ANTOFAGASTA MINERALS S.A.   \n",
       "\n",
       "                                                    Caudal AnualProm  \n",
       "Fecha de Resolución Envío al Juez Inscripción C...                    \n",
       "1914-03-07                                                 8000.0000  \n",
       "1917-06-04                                                 8000.0000  \n",
       "1914-03-07                                                 6000.0000  \n",
       "1914-03-07                                                 5000.0000  \n",
       "1981-01-16                                                 5000.0000  \n",
       "1999-05-07                                                 4756.4688  \n",
       "1914-03-07                                                 4000.0000  \n",
       "2006-01-23                                                 2204.4647  \n",
       "1998-04-07                                                 1782.5000  \n",
       "1998-04-07                                                 1780.8333  "
      ]
     },
     "metadata": {},
     "output_type": "display_data"
    },
    {
     "data": {
      "image/png": "[encoded data removed]",
      "text/plain": [
       "<matplotlib.figure.Figure at 0xea47780>"
      ]
     },
     "metadata": {},
     "output_type": "display_data"
    },
    {
     "data": {
      "text/html": [
       "<center><h2>Top 10 derechos otorgados Elqui</h2></center>"
      ],
      "text/plain": [
       "<IPython.core.display.HTML object>"
      ]
     },
     "metadata": {},
     "output_type": "display_data"
    },
    {
     "data": {
      "text/html": [
       "<div>\n",
       "<table border=\"1\" class=\"dataframe\">\n",
       "  <thead>\n",
       "    <tr style=\"text-align: right;\">\n",
       "      <th></th>\n",
       "      <th>Nombre Solicitante</th>\n",
       "      <th>Caudal AnualProm</th>\n",
       "    </tr>\n",
       "    <tr>\n",
       "      <th>Fecha de Resolución Envío al Juez Inscripción C.B.R.</th>\n",
       "      <th></th>\n",
       "      <th></th>\n",
       "    </tr>\n",
       "  </thead>\n",
       "  <tbody>\n",
       "    <tr>\n",
       "      <th>1914-03-07</th>\n",
       "      <td>RAFAEL UNDURRAGA</td>\n",
       "      <td>20000.0000</td>\n",
       "    </tr>\n",
       "    <tr>\n",
       "      <th>1991-09-17</th>\n",
       "      <td>FISCO, DIRECCION DE OBRAS PUBLICAS</td>\n",
       "      <td>12655.7232</td>\n",
       "    </tr>\n",
       "    <tr>\n",
       "      <th>2005-01-01</th>\n",
       "      <td>HIDROELECTRICA PUCLARO S.A.</td>\n",
       "      <td>12000.0000</td>\n",
       "    </tr>\n",
       "    <tr>\n",
       "      <th>1924-03-14</th>\n",
       "      <td>GUILLERMO TAGLE B.</td>\n",
       "      <td>4500.0000</td>\n",
       "    </tr>\n",
       "    <tr>\n",
       "      <th>1924-03-14</th>\n",
       "      <td>GUILLERMO TAGLE B.</td>\n",
       "      <td>4000.0000</td>\n",
       "    </tr>\n",
       "    <tr>\n",
       "      <th>1979-04-19</th>\n",
       "      <td>SOCIEDAD AGROINDUSTRIAL  HACIENDA CAMARONES S.A.</td>\n",
       "      <td>3277.7778</td>\n",
       "    </tr>\n",
       "    <tr>\n",
       "      <th>2012-12-29</th>\n",
       "      <td>INVERSIONES KROKIS SPA</td>\n",
       "      <td>3200.0000</td>\n",
       "    </tr>\n",
       "    <tr>\n",
       "      <th>1922-04-12</th>\n",
       "      <td>MOISES DEL CANTO          Y OTRO</td>\n",
       "      <td>3000.0000</td>\n",
       "    </tr>\n",
       "    <tr>\n",
       "      <th>2012-02-29</th>\n",
       "      <td>INVERSIONES KROKIS SPA</td>\n",
       "      <td>2400.0000</td>\n",
       "    </tr>\n",
       "    <tr>\n",
       "      <th>2012-02-29</th>\n",
       "      <td>INVERSIONES KROKIS SPA</td>\n",
       "      <td>2400.0000</td>\n",
       "    </tr>\n",
       "  </tbody>\n",
       "</table>\n",
       "</div>"
      ],
      "text/plain": [
       "                                                                                  Nombre Solicitante  \\\n",
       "Fecha de Resolución Envío al Juez Inscripción C...                                                     \n",
       "1914-03-07                                                                          RAFAEL UNDURRAGA   \n",
       "1991-09-17                                                        FISCO, DIRECCION DE OBRAS PUBLICAS   \n",
       "2005-01-01                                                               HIDROELECTRICA PUCLARO S.A.   \n",
       "1924-03-14                                                                        GUILLERMO TAGLE B.   \n",
       "1924-03-14                                                                        GUILLERMO TAGLE B.   \n",
       "1979-04-19                                          SOCIEDAD AGROINDUSTRIAL  HACIENDA CAMARONES S.A.   \n",
       "2012-12-29                                                                    INVERSIONES KROKIS SPA   \n",
       "1922-04-12                                                          MOISES DEL CANTO          Y OTRO   \n",
       "2012-02-29                                                                    INVERSIONES KROKIS SPA   \n",
       "2012-02-29                                                                    INVERSIONES KROKIS SPA   \n",
       "\n",
       "                                                    Caudal AnualProm  \n",
       "Fecha de Resolución Envío al Juez Inscripción C...                    \n",
       "1914-03-07                                                20000.0000  \n",
       "1991-09-17                                                12655.7232  \n",
       "2005-01-01                                                12000.0000  \n",
       "1924-03-14                                                 4500.0000  \n",
       "1924-03-14                                                 4000.0000  \n",
       "1979-04-19                                                 3277.7778  \n",
       "2012-12-29                                                 3200.0000  \n",
       "1922-04-12                                                 3000.0000  \n",
       "2012-02-29                                                 2400.0000  \n",
       "2012-02-29                                                 2400.0000  "
      ]
     },
     "metadata": {},
     "output_type": "display_data"
    },
    {
     "data": {
      "image/png": "[encoded data removed]",
      "text/plain": [
       "<matplotlib.figure.Figure at 0xa603e48>"
      ]
     },
     "metadata": {},
     "output_type": "display_data"
    },
    {
     "data": {
      "text/html": [
       "<center><h2>Top 10 derechos otorgados Limari</h2></center>"
      ],
      "text/plain": [
       "<IPython.core.display.HTML object>"
      ]
     },
     "metadata": {},
     "output_type": "display_data"
    },
    {
     "data": {
      "text/html": [
       "<div>\n",
       "<table border=\"1\" class=\"dataframe\">\n",
       "  <thead>\n",
       "    <tr style=\"text-align: right;\">\n",
       "      <th></th>\n",
       "      <th>Nombre Solicitante</th>\n",
       "      <th>Caudal AnualProm</th>\n",
       "    </tr>\n",
       "    <tr>\n",
       "      <th>Fecha de Resolución Envío al Juez Inscripción C.B.R.</th>\n",
       "      <th></th>\n",
       "      <th></th>\n",
       "    </tr>\n",
       "  </thead>\n",
       "  <tbody>\n",
       "    <tr>\n",
       "      <th>1978-06-16</th>\n",
       "      <td>EMBALSE PALOMA D. RIEGO</td>\n",
       "      <td>23460.0000</td>\n",
       "    </tr>\n",
       "    <tr>\n",
       "      <th>2008-08-20</th>\n",
       "      <td>HIDROENERGIA CHILE LTDA.</td>\n",
       "      <td>19000.0000</td>\n",
       "    </tr>\n",
       "    <tr>\n",
       "      <th>1932-06-17</th>\n",
       "      <td>CORRAL HNOS.</td>\n",
       "      <td>5000.0000</td>\n",
       "    </tr>\n",
       "    <tr>\n",
       "      <th>2014-10-23</th>\n",
       "      <td>MANUEL ENRIQUE MADRID ARIS</td>\n",
       "      <td>4200.0000</td>\n",
       "    </tr>\n",
       "    <tr>\n",
       "      <th>2008-04-07</th>\n",
       "      <td>INVERSIONES ARLEQUIN LIMITADA</td>\n",
       "      <td>4000.0000</td>\n",
       "    </tr>\n",
       "    <tr>\n",
       "      <th>2014-01-23</th>\n",
       "      <td>PESQUERA PEJERREY LIMITADA</td>\n",
       "      <td>2532.0833</td>\n",
       "    </tr>\n",
       "    <tr>\n",
       "      <th>1941-05-31</th>\n",
       "      <td>EMPRESA NACIONAL DE ELECTRICIDAD S.A.</td>\n",
       "      <td>1200.0000</td>\n",
       "    </tr>\n",
       "    <tr>\n",
       "      <th>1988-09-23</th>\n",
       "      <td>FISCO DIRECCION DE RIEGO</td>\n",
       "      <td>1000.0000</td>\n",
       "    </tr>\n",
       "    <tr>\n",
       "      <th>2011-03-25</th>\n",
       "      <td>INMOBILIARIA PHOENIX S.A.</td>\n",
       "      <td>800.0000</td>\n",
       "    </tr>\n",
       "    <tr>\n",
       "      <th>2014-10-23</th>\n",
       "      <td>MANUEL ENRIQUE MADRID ARIS</td>\n",
       "      <td>778.3333</td>\n",
       "    </tr>\n",
       "  </tbody>\n",
       "</table>\n",
       "</div>"
      ],
      "text/plain": [
       "                                                                       Nombre Solicitante  \\\n",
       "Fecha de Resolución Envío al Juez Inscripción C...                                          \n",
       "1978-06-16                                                        EMBALSE PALOMA D. RIEGO   \n",
       "2008-08-20                                                       HIDROENERGIA CHILE LTDA.   \n",
       "1932-06-17                                                                   CORRAL HNOS.   \n",
       "2014-10-23                                                     MANUEL ENRIQUE MADRID ARIS   \n",
       "2008-04-07                                                  INVERSIONES ARLEQUIN LIMITADA   \n",
       "2014-01-23                                                     PESQUERA PEJERREY LIMITADA   \n",
       "1941-05-31                                          EMPRESA NACIONAL DE ELECTRICIDAD S.A.   \n",
       "1988-09-23                                                       FISCO DIRECCION DE RIEGO   \n",
       "2011-03-25                                                      INMOBILIARIA PHOENIX S.A.   \n",
       "2014-10-23                                                     MANUEL ENRIQUE MADRID ARIS   \n",
       "\n",
       "                                                    Caudal AnualProm  \n",
       "Fecha de Resolución Envío al Juez Inscripción C...                    \n",
       "1978-06-16                                                23460.0000  \n",
       "2008-08-20                                                19000.0000  \n",
       "1932-06-17                                                 5000.0000  \n",
       "2014-10-23                                                 4200.0000  \n",
       "2008-04-07                                                 4000.0000  \n",
       "2014-01-23                                                 2532.0833  \n",
       "1941-05-31                                                 1200.0000  \n",
       "1988-09-23                                                 1000.0000  \n",
       "2011-03-25                                                  800.0000  \n",
       "2014-10-23                                                  778.3333  "
      ]
     },
     "metadata": {},
     "output_type": "display_data"
    },
    {
     "data": {
      "image/png": "[encoded data removed]",
      "text/plain": [
       "<matplotlib.figure.Figure at 0xed7bac8>"
      ]
     },
     "metadata": {},
     "output_type": "display_data"
    }
   ],
   "source": [
    "for p in gb.groups.keys():\n",
    "    \n",
    "    display(HTML('<center><h2>Top 10 derechos otorgados %s</h2></center>'%p))\n",
    "    display(top_ddaa(gb.get_group(p), n=10))\n",
    "    ax = gb.get_group(p)[short['caudal']].plot(title='Derechos otorgados %s'%p, style='x', figsize=(15, 7.5))\n",
    "    zoom(ax)\n",
    "    plt.show()"
   ]
  },
  {
   "cell_type": "code",
   "execution_count": 8,
   "metadata": {
    "collapsed": false
   },
   "outputs": [
    {
     "data": {
      "text/html": [
       "<div>\n",
       "<table border=\"1\" class=\"dataframe\">\n",
       "  <thead>\n",
       "    <tr style=\"text-align: right;\">\n",
       "      <th></th>\n",
       "      <th>Naturaleza del Agua</th>\n",
       "      <th>Ejercicio del Derecho</th>\n",
       "      <th>Tipo Derecho</th>\n",
       "      <th>Nombre Solicitante</th>\n",
       "      <th>Clasificación Fuente</th>\n",
       "      <th>Caudal AnualProm</th>\n",
       "    </tr>\n",
       "    <tr>\n",
       "      <th>Fecha de Resolución Envío al Juez Inscripción C.B.R.</th>\n",
       "      <th></th>\n",
       "      <th></th>\n",
       "      <th></th>\n",
       "      <th></th>\n",
       "      <th></th>\n",
       "      <th></th>\n",
       "    </tr>\n",
       "  </thead>\n",
       "  <tbody>\n",
       "    <tr>\n",
       "      <th>2007-10-05</th>\n",
       "      <td>Subterranea</td>\n",
       "      <td>Perm. y Cont. y Provisionales</td>\n",
       "      <td>Consuntivo</td>\n",
       "      <td>FISCO EJERCITO DE CHILE</td>\n",
       "      <td>Acuifero</td>\n",
       "      <td>15.0000</td>\n",
       "    </tr>\n",
       "    <tr>\n",
       "      <th>1991-09-17</th>\n",
       "      <td>Superficial y Corriente</td>\n",
       "      <td>Eventual y Continuo</td>\n",
       "      <td>Consuntivo</td>\n",
       "      <td>FISCO, DIRECCION DE OBRAS PUBLICAS</td>\n",
       "      <td>Rio/Estero</td>\n",
       "      <td>12655.7232</td>\n",
       "    </tr>\n",
       "    <tr>\n",
       "      <th>1988-09-23</th>\n",
       "      <td>Superficial y Corriente</td>\n",
       "      <td>Permanente y Continuo</td>\n",
       "      <td>No Consuntivo</td>\n",
       "      <td>FISCO DIRECCION DE RIEGO</td>\n",
       "      <td>Rio/Estero</td>\n",
       "      <td>1000.0000</td>\n",
       "    </tr>\n",
       "    <tr>\n",
       "      <th>1999-05-07</th>\n",
       "      <td>Superficial y Corriente</td>\n",
       "      <td>Eventual y Continuo</td>\n",
       "      <td>Consuntivo</td>\n",
       "      <td>FISCO, DIRECCION DE OBRAS HIDRAULICAS S/N S/N</td>\n",
       "      <td>Rio/Estero</td>\n",
       "      <td>4756.4688</td>\n",
       "    </tr>\n",
       "    <tr>\n",
       "      <th>1999-04-01</th>\n",
       "      <td>Superficial y Corriente</td>\n",
       "      <td>Eventual y Continuo</td>\n",
       "      <td>Consuntivo</td>\n",
       "      <td>FISCO, DIRECCION DE OBRAS HIDRAULICAS S/N S/N</td>\n",
       "      <td>Rio/Estero</td>\n",
       "      <td>158.5490</td>\n",
       "    </tr>\n",
       "    <tr>\n",
       "      <th>1999-03-15</th>\n",
       "      <td>Superficial y Corriente</td>\n",
       "      <td>Eventual y Continuo</td>\n",
       "      <td>Consuntivo</td>\n",
       "      <td>FISCO, DIRECCION DE OBRAS HIDRAULICAS</td>\n",
       "      <td>Rio/Estero</td>\n",
       "      <td>951.2938</td>\n",
       "    </tr>\n",
       "    <tr>\n",
       "      <th>1974-05-22</th>\n",
       "      <td>Subterranea</td>\n",
       "      <td>Permanente y Continuo</td>\n",
       "      <td>Consuntivo</td>\n",
       "      <td>AGUA POTABLE ANDACOLLO/ FISCO</td>\n",
       "      <td>Acuifero</td>\n",
       "      <td>15.0000</td>\n",
       "    </tr>\n",
       "    <tr>\n",
       "      <th>1979-07-06</th>\n",
       "      <td>Superficial y Corriente</td>\n",
       "      <td>Permanente y Continuo</td>\n",
       "      <td>Consuntivo</td>\n",
       "      <td>FISCO-MINISTERIO DE EDUCACION</td>\n",
       "      <td>Embalse</td>\n",
       "      <td>0.4186</td>\n",
       "    </tr>\n",
       "    <tr>\n",
       "      <th>2003-04-22</th>\n",
       "      <td>Superficial y Corriente</td>\n",
       "      <td>Eventual y Continuo</td>\n",
       "      <td>Consuntivo</td>\n",
       "      <td>FISCO, DIRECCION DE OBRAS HIDRAULICAS S/N S/N</td>\n",
       "      <td>Rio/Estero</td>\n",
       "      <td>1268.3917</td>\n",
       "    </tr>\n",
       "  </tbody>\n",
       "</table>\n",
       "</div>"
      ],
      "text/plain": [
       "                                                        Naturaleza del Agua  \\\n",
       "Fecha de Resolución Envío al Juez Inscripción C...                            \n",
       "2007-10-05                                                      Subterranea   \n",
       "1991-09-17                                          Superficial y Corriente   \n",
       "1988-09-23                                          Superficial y Corriente   \n",
       "1999-05-07                                          Superficial y Corriente   \n",
       "1999-04-01                                          Superficial y Corriente   \n",
       "1999-03-15                                          Superficial y Corriente   \n",
       "1974-05-22                                                      Subterranea   \n",
       "1979-07-06                                          Superficial y Corriente   \n",
       "2003-04-22                                          Superficial y Corriente   \n",
       "\n",
       "                                                            Ejercicio del Derecho  \\\n",
       "Fecha de Resolución Envío al Juez Inscripción C...                                  \n",
       "2007-10-05                                          Perm. y Cont. y Provisionales   \n",
       "1991-09-17                                                    Eventual y Continuo   \n",
       "1988-09-23                                                  Permanente y Continuo   \n",
       "1999-05-07                                                    Eventual y Continuo   \n",
       "1999-04-01                                                    Eventual y Continuo   \n",
       "1999-03-15                                                    Eventual y Continuo   \n",
       "1974-05-22                                                  Permanente y Continuo   \n",
       "1979-07-06                                                  Permanente y Continuo   \n",
       "2003-04-22                                                    Eventual y Continuo   \n",
       "\n",
       "                                                     Tipo Derecho  \\\n",
       "Fecha de Resolución Envío al Juez Inscripción C...                  \n",
       "2007-10-05                                             Consuntivo   \n",
       "1991-09-17                                             Consuntivo   \n",
       "1988-09-23                                          No Consuntivo   \n",
       "1999-05-07                                             Consuntivo   \n",
       "1999-04-01                                             Consuntivo   \n",
       "1999-03-15                                             Consuntivo   \n",
       "1974-05-22                                             Consuntivo   \n",
       "1979-07-06                                             Consuntivo   \n",
       "2003-04-22                                             Consuntivo   \n",
       "\n",
       "                                                                               Nombre Solicitante  \\\n",
       "Fecha de Resolución Envío al Juez Inscripción C...                                                  \n",
       "2007-10-05                                                                FISCO EJERCITO DE CHILE   \n",
       "1991-09-17                                                     FISCO, DIRECCION DE OBRAS PUBLICAS   \n",
       "1988-09-23                                                               FISCO DIRECCION DE RIEGO   \n",
       "1999-05-07                                          FISCO, DIRECCION DE OBRAS HIDRAULICAS S/N S/N   \n",
       "1999-04-01                                          FISCO, DIRECCION DE OBRAS HIDRAULICAS S/N S/N   \n",
       "1999-03-15                                                  FISCO, DIRECCION DE OBRAS HIDRAULICAS   \n",
       "1974-05-22                                                          AGUA POTABLE ANDACOLLO/ FISCO   \n",
       "1979-07-06                                                          FISCO-MINISTERIO DE EDUCACION   \n",
       "2003-04-22                                          FISCO, DIRECCION DE OBRAS HIDRAULICAS S/N S/N   \n",
       "\n",
       "                                                   Clasificación Fuente  \\\n",
       "Fecha de Resolución Envío al Juez Inscripción C...                        \n",
       "2007-10-05                                                     Acuifero   \n",
       "1991-09-17                                                   Rio/Estero   \n",
       "1988-09-23                                                   Rio/Estero   \n",
       "1999-05-07                                                   Rio/Estero   \n",
       "1999-04-01                                                   Rio/Estero   \n",
       "1999-03-15                                                   Rio/Estero   \n",
       "1974-05-22                                                     Acuifero   \n",
       "1979-07-06                                                      Embalse   \n",
       "2003-04-22                                                   Rio/Estero   \n",
       "\n",
       "                                                    Caudal AnualProm  \n",
       "Fecha de Resolución Envío al Juez Inscripción C...                    \n",
       "2007-10-05                                                   15.0000  \n",
       "1991-09-17                                                12655.7232  \n",
       "1988-09-23                                                 1000.0000  \n",
       "1999-05-07                                                 4756.4688  \n",
       "1999-04-01                                                  158.5490  \n",
       "1999-03-15                                                  951.2938  \n",
       "1974-05-22                                                   15.0000  \n",
       "1979-07-06                                                    0.4186  \n",
       "2003-04-22                                                 1268.3917  "
      ]
     },
     "execution_count": 8,
     "metadata": {},
     "output_type": "execute_result"
    }
   ],
   "source": [
    "busca(df, 'FISCO', column=short['usuario'])"
   ]
  },
  {
   "cell_type": "code",
   "execution_count": 9,
   "metadata": {
    "collapsed": false
   },
   "outputs": [
    {
     "name": "stdout",
     "output_type": "stream",
     "text": [
      "Derechos reservados por el FISCO en la Region IV:\n",
      "20820.8451 [l/s]\n"
     ]
    }
   ],
   "source": [
    "print 'Derechos reservados por el FISCO en la Region %s:' % region\n",
    "print '%s [l/s]' % busca(df, 'FISCO', column=short['usuario'])[short['caudal']].sum()"
   ]
  },
  {
   "cell_type": "code",
   "execution_count": null,
   "metadata": {
    "collapsed": false
   },
   "outputs": [],
   "source": []
  }
 ],
 "metadata": {
  "kernelspec": {
   "display_name": "Python 2",
   "language": "python",
   "name": "python2"
  },
  "language_info": {
   "codemirror_mode": {
    "name": "ipython",
    "version": 2
   },
   "file_extension": ".py",
   "mimetype": "text/x-python",
   "name": "python",
   "nbconvert_exporter": "python",
   "pygments_lexer": "ipython2",
   "version": "2.7.11"
  }
 },
 "nbformat": 4,
 "nbformat_minor": 0
}
