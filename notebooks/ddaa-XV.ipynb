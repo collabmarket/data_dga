{
 "cells": [
  {
   "cell_type": "code",
   "execution_count": 1,
   "metadata": {
    "collapsed": true
   },
   "outputs": [],
   "source": [
    "from IPython.display import display, HTML"
   ]
  },
  {
   "cell_type": "code",
   "execution_count": 2,
   "metadata": {
    "collapsed": true
   },
   "outputs": [],
   "source": [
    "%run ../ddaa.py"
   ]
  },
  {
   "cell_type": "code",
   "execution_count": 3,
   "metadata": {
    "collapsed": true
   },
   "outputs": [],
   "source": [
    "# Region a analizar\n",
    "region = 'XV'"
   ]
  },
  {
   "cell_type": "code",
   "execution_count": 4,
   "metadata": {
    "collapsed": false
   },
   "outputs": [],
   "source": [
    "# Genera DataFrame con ddaa\n",
    "meta = open_meta()\n",
    "df = open_ddaa(meta['path'][region])"
   ]
  },
  {
   "cell_type": "code",
   "execution_count": 6,
   "metadata": {
    "collapsed": false
   },
   "outputs": [],
   "source": [
    "# Derechos agrupados por provincia\n",
    "gb = df.groupby(u'Provincia')"
   ]
  },
  {
   "cell_type": "code",
   "execution_count": 7,
   "metadata": {
    "collapsed": false,
    "scrolled": false
   },
   "outputs": [
    {
     "data": {
      "text/html": [
       "<center><h2>Top 10 derechos otorgados Parinacota</h2></center>"
      ],
      "text/plain": [
       "<IPython.core.display.HTML object>"
      ]
     },
     "metadata": {},
     "output_type": "display_data"
    },
    {
     "data": {
      "text/html": [
       "<div>\n",
       "<table border=\"1\" class=\"dataframe\">\n",
       "  <thead>\n",
       "    <tr style=\"text-align: right;\">\n",
       "      <th></th>\n",
       "      <th>Nombre Solicitante</th>\n",
       "      <th>Caudal AnualProm</th>\n",
       "    </tr>\n",
       "    <tr>\n",
       "      <th>Fecha de Resolución Envío al Juez Inscripción C.B.R.</th>\n",
       "      <th></th>\n",
       "      <th></th>\n",
       "    </tr>\n",
       "  </thead>\n",
       "  <tbody>\n",
       "    <tr>\n",
       "      <th>1997-04-16</th>\n",
       "      <td>BERTA HUMIRE ALEJANDRO</td>\n",
       "      <td>4752.00</td>\n",
       "    </tr>\n",
       "    <tr>\n",
       "      <th>2009-05-19</th>\n",
       "      <td>MANUELA AMELIA CATACORA CATACORA</td>\n",
       "      <td>3755.00</td>\n",
       "    </tr>\n",
       "    <tr>\n",
       "      <th>2006-01-17</th>\n",
       "      <td>EMPRESA ELECTRICA DEL NORTE GRANDE S.A.</td>\n",
       "      <td>2700.00</td>\n",
       "    </tr>\n",
       "    <tr>\n",
       "      <th>2012-06-12</th>\n",
       "      <td>SILVERIA REMEDIOS QUISPE HUMIRE</td>\n",
       "      <td>2016.00</td>\n",
       "    </tr>\n",
       "    <tr>\n",
       "      <th>1996-10-17</th>\n",
       "      <td>JUNTA VECINAL N° 6 CAQUENA</td>\n",
       "      <td>951.33</td>\n",
       "    </tr>\n",
       "    <tr>\n",
       "      <th>2002-11-22</th>\n",
       "      <td>GABRIELA BERNARDA MEDINA TICONA Y OTROS</td>\n",
       "      <td>907.20</td>\n",
       "    </tr>\n",
       "    <tr>\n",
       "      <th>2010-03-31</th>\n",
       "      <td>CARMEN PAIRO CHAMBE</td>\n",
       "      <td>864.00</td>\n",
       "    </tr>\n",
       "    <tr>\n",
       "      <th>2008-10-27</th>\n",
       "      <td>SABINA PAIRO QUISPE Y OTROS</td>\n",
       "      <td>576.00</td>\n",
       "    </tr>\n",
       "    <tr>\n",
       "      <th>2010-03-31</th>\n",
       "      <td>CARMEN PAIRO CHAMBE</td>\n",
       "      <td>528.00</td>\n",
       "    </tr>\n",
       "    <tr>\n",
       "      <th>2015-12-09</th>\n",
       "      <td>ELIZABETH ROSAURA CANQUE BACUTA</td>\n",
       "      <td>432.00</td>\n",
       "    </tr>\n",
       "  </tbody>\n",
       "</table>\n",
       "</div>"
      ],
      "text/plain": [
       "                                                                         Nombre Solicitante  \\\n",
       "Fecha de Resolución Envío al Juez Inscripción C...                                            \n",
       "1997-04-16                                                           BERTA HUMIRE ALEJANDRO   \n",
       "2009-05-19                                                 MANUELA AMELIA CATACORA CATACORA   \n",
       "2006-01-17                                          EMPRESA ELECTRICA DEL NORTE GRANDE S.A.   \n",
       "2012-06-12                                                  SILVERIA REMEDIOS QUISPE HUMIRE   \n",
       "1996-10-17                                                       JUNTA VECINAL N° 6 CAQUENA   \n",
       "2002-11-22                                          GABRIELA BERNARDA MEDINA TICONA Y OTROS   \n",
       "2010-03-31                                                              CARMEN PAIRO CHAMBE   \n",
       "2008-10-27                                                      SABINA PAIRO QUISPE Y OTROS   \n",
       "2010-03-31                                                              CARMEN PAIRO CHAMBE   \n",
       "2015-12-09                                                  ELIZABETH ROSAURA CANQUE BACUTA   \n",
       "\n",
       "                                                    Caudal AnualProm  \n",
       "Fecha de Resolución Envío al Juez Inscripción C...                    \n",
       "1997-04-16                                                   4752.00  \n",
       "2009-05-19                                                   3755.00  \n",
       "2006-01-17                                                   2700.00  \n",
       "2012-06-12                                                   2016.00  \n",
       "1996-10-17                                                    951.33  \n",
       "2002-11-22                                                    907.20  \n",
       "2010-03-31                                                    864.00  \n",
       "2008-10-27                                                    576.00  \n",
       "2010-03-31                                                    528.00  \n",
       "2015-12-09                                                    432.00  "
      ]
     },
     "metadata": {},
     "output_type": "display_data"
    },
    {
     "data": {
      "image/png": "[encoded data removed]",
      "text/plain": [
       "<matplotlib.figure.Figure at 0xad45940>"
      ]
     },
     "metadata": {},
     "output_type": "display_data"
    },
    {
     "data": {
      "text/html": [
       "<center><h2>Top 10 derechos otorgados Arica</h2></center>"
      ],
      "text/plain": [
       "<IPython.core.display.HTML object>"
      ]
     },
     "metadata": {},
     "output_type": "display_data"
    },
    {
     "data": {
      "text/html": [
       "<div>\n",
       "<table border=\"1\" class=\"dataframe\">\n",
       "  <thead>\n",
       "    <tr style=\"text-align: right;\">\n",
       "      <th></th>\n",
       "      <th>Nombre Solicitante</th>\n",
       "      <th>Caudal AnualProm</th>\n",
       "    </tr>\n",
       "    <tr>\n",
       "      <th>Fecha de Resolución Envío al Juez Inscripción C.B.R.</th>\n",
       "      <th></th>\n",
       "      <th></th>\n",
       "    </tr>\n",
       "  </thead>\n",
       "  <tbody>\n",
       "    <tr>\n",
       "      <th>1920-06-15</th>\n",
       "      <td>GERMAN BRAIN         Y OTROS</td>\n",
       "      <td>8000.0000</td>\n",
       "    </tr>\n",
       "    <tr>\n",
       "      <th>2014-12-16</th>\n",
       "      <td>DIRECCION OBRAS HIDRAULICAS</td>\n",
       "      <td>4080.0000</td>\n",
       "    </tr>\n",
       "    <tr>\n",
       "      <th>2001-07-17</th>\n",
       "      <td>DIRECCION OBRAS HIDRAULICAS</td>\n",
       "      <td>2536.7834</td>\n",
       "    </tr>\n",
       "    <tr>\n",
       "      <th>2014-10-06</th>\n",
       "      <td>DIRECCION DE OBRAS HIDRAULICAS - REGION DE ARI...</td>\n",
       "      <td>1614.8958</td>\n",
       "    </tr>\n",
       "    <tr>\n",
       "      <th>2013-10-11</th>\n",
       "      <td>FISCO - DIRECCION DE OBRAS HIDRAULICAS</td>\n",
       "      <td>1586.4167</td>\n",
       "    </tr>\n",
       "    <tr>\n",
       "      <th>2001-07-17</th>\n",
       "      <td>DIRECCION OBRAS HIDRAULICAS</td>\n",
       "      <td>996.7300</td>\n",
       "    </tr>\n",
       "    <tr>\n",
       "      <th>2006-12-05</th>\n",
       "      <td>CLARA ELENA HUANCA BORJA</td>\n",
       "      <td>900.0000</td>\n",
       "    </tr>\n",
       "    <tr>\n",
       "      <th>2003-03-12</th>\n",
       "      <td>MARCOS ANTONIO MUÑOZ APE</td>\n",
       "      <td>864.0000</td>\n",
       "    </tr>\n",
       "    <tr>\n",
       "      <th>2005-05-26</th>\n",
       "      <td>MARIA SIMONA CALLE GONZALEZ</td>\n",
       "      <td>780.0000</td>\n",
       "    </tr>\n",
       "    <tr>\n",
       "      <th>1992-01-01</th>\n",
       "      <td>SEVERINO GARCIA QUISPE</td>\n",
       "      <td>664.7000</td>\n",
       "    </tr>\n",
       "  </tbody>\n",
       "</table>\n",
       "</div>"
      ],
      "text/plain": [
       "                                                                                   Nombre Solicitante  \\\n",
       "Fecha de Resolución Envío al Juez Inscripción C...                                                      \n",
       "1920-06-15                                                               GERMAN BRAIN         Y OTROS   \n",
       "2014-12-16                                                                DIRECCION OBRAS HIDRAULICAS   \n",
       "2001-07-17                                                                DIRECCION OBRAS HIDRAULICAS   \n",
       "2014-10-06                                          DIRECCION DE OBRAS HIDRAULICAS - REGION DE ARI...   \n",
       "2013-10-11                                                     FISCO - DIRECCION DE OBRAS HIDRAULICAS   \n",
       "2001-07-17                                                                DIRECCION OBRAS HIDRAULICAS   \n",
       "2006-12-05                                                                   CLARA ELENA HUANCA BORJA   \n",
       "2003-03-12                                                                   MARCOS ANTONIO MUÑOZ APE   \n",
       "2005-05-26                                                                MARIA SIMONA CALLE GONZALEZ   \n",
       "1992-01-01                                                                     SEVERINO GARCIA QUISPE   \n",
       "\n",
       "                                                    Caudal AnualProm  \n",
       "Fecha de Resolución Envío al Juez Inscripción C...                    \n",
       "1920-06-15                                                 8000.0000  \n",
       "2014-12-16                                                 4080.0000  \n",
       "2001-07-17                                                 2536.7834  \n",
       "2014-10-06                                                 1614.8958  \n",
       "2013-10-11                                                 1586.4167  \n",
       "2001-07-17                                                  996.7300  \n",
       "2006-12-05                                                  900.0000  \n",
       "2003-03-12                                                  864.0000  \n",
       "2005-05-26                                                  780.0000  \n",
       "1992-01-01                                                  664.7000  "
      ]
     },
     "metadata": {},
     "output_type": "display_data"
    },
    {
     "data": {
      "image/png": "[encoded data removed]",
      "text/plain": [
       "<matplotlib.figure.Figure at 0xb0b8b38>"
      ]
     },
     "metadata": {},
     "output_type": "display_data"
    }
   ],
   "source": [
    "for p in gb.groups.keys():\n",
    "    \n",
    "    display(HTML('<center><h2>Top 10 derechos otorgados %s</h2></center>'%p))\n",
    "    display(top_ddaa(gb.get_group(p), n=10))\n",
    "    ax = gb.get_group(p)[short['caudal']].plot(title='Derechos otorgados %s'%p, style='x', figsize=(15, 7.5))\n",
    "    zoom(ax)\n",
    "    plt.show()"
   ]
  },
  {
   "cell_type": "code",
   "execution_count": 8,
   "metadata": {
    "collapsed": false
   },
   "outputs": [
    {
     "data": {
      "text/html": [
       "<div>\n",
       "<table border=\"1\" class=\"dataframe\">\n",
       "  <thead>\n",
       "    <tr style=\"text-align: right;\">\n",
       "      <th></th>\n",
       "      <th>Naturaleza del Agua</th>\n",
       "      <th>Ejercicio del Derecho</th>\n",
       "      <th>Tipo Derecho</th>\n",
       "      <th>Nombre Solicitante</th>\n",
       "      <th>Clasificación Fuente</th>\n",
       "      <th>Caudal AnualProm</th>\n",
       "    </tr>\n",
       "    <tr>\n",
       "      <th>Fecha de Resolución Envío al Juez Inscripción C.B.R.</th>\n",
       "      <th></th>\n",
       "      <th></th>\n",
       "      <th></th>\n",
       "      <th></th>\n",
       "      <th></th>\n",
       "      <th></th>\n",
       "    </tr>\n",
       "  </thead>\n",
       "  <tbody>\n",
       "    <tr>\n",
       "      <th>2013-10-11</th>\n",
       "      <td>Superficial y Corriente</td>\n",
       "      <td>Eventual y Discontinuo</td>\n",
       "      <td>No Consuntivo</td>\n",
       "      <td>FISCO - DIRECCION DE OBRAS HIDRAULICAS</td>\n",
       "      <td>Rio/Estero</td>\n",
       "      <td>1586.4167</td>\n",
       "    </tr>\n",
       "    <tr>\n",
       "      <th>2002-03-27</th>\n",
       "      <td>Superficial y Corriente</td>\n",
       "      <td>Eventual y Continuo</td>\n",
       "      <td>Consuntivo</td>\n",
       "      <td>FISCO, DIRECCION DE OBRAS HIDRAULICAS S/N S/N</td>\n",
       "      <td>Rio/Estero</td>\n",
       "      <td>570.7763</td>\n",
       "    </tr>\n",
       "    <tr>\n",
       "      <th>2002-05-07</th>\n",
       "      <td>Superficial y Corriente</td>\n",
       "      <td>Eventual y Discontinuo</td>\n",
       "      <td>Consuntivo</td>\n",
       "      <td>FISCO, DIRECCION DE OBRAS HIDRAULICAS S/N S/N</td>\n",
       "      <td>Rio/Estero</td>\n",
       "      <td>70.0000</td>\n",
       "    </tr>\n",
       "    <tr>\n",
       "      <th>2002-05-07</th>\n",
       "      <td>Superficial y Corriente</td>\n",
       "      <td>Eventual y Discontinuo</td>\n",
       "      <td>Consuntivo</td>\n",
       "      <td>FISCO, DIRECCION DE OBRAS HIDRAULICAS S/N S/N</td>\n",
       "      <td>Rio/Estero</td>\n",
       "      <td>241.6667</td>\n",
       "    </tr>\n",
       "    <tr>\n",
       "      <th>2004-06-02</th>\n",
       "      <td>Subterranea</td>\n",
       "      <td>Permanente y Continuo</td>\n",
       "      <td>Consuntivo</td>\n",
       "      <td>FISCO EJERCITO DE CHILE</td>\n",
       "      <td>Acuifero</td>\n",
       "      <td>20.0000</td>\n",
       "    </tr>\n",
       "    <tr>\n",
       "      <th>2004-06-02</th>\n",
       "      <td>Subterranea</td>\n",
       "      <td>Permanente y Continuo</td>\n",
       "      <td>Consuntivo</td>\n",
       "      <td>FISCO EJERCITO DE CHILE</td>\n",
       "      <td>Acuifero</td>\n",
       "      <td>15.0000</td>\n",
       "    </tr>\n",
       "    <tr>\n",
       "      <th>1969-10-24</th>\n",
       "      <td>Subterranea</td>\n",
       "      <td>Permanente y Continuo</td>\n",
       "      <td>Consuntivo</td>\n",
       "      <td>FISCO</td>\n",
       "      <td>Acuifero</td>\n",
       "      <td>200.0000</td>\n",
       "    </tr>\n",
       "  </tbody>\n",
       "</table>\n",
       "</div>"
      ],
      "text/plain": [
       "                                                        Naturaleza del Agua  \\\n",
       "Fecha de Resolución Envío al Juez Inscripción C...                            \n",
       "2013-10-11                                          Superficial y Corriente   \n",
       "2002-03-27                                          Superficial y Corriente   \n",
       "2002-05-07                                          Superficial y Corriente   \n",
       "2002-05-07                                          Superficial y Corriente   \n",
       "2004-06-02                                                      Subterranea   \n",
       "2004-06-02                                                      Subterranea   \n",
       "1969-10-24                                                      Subterranea   \n",
       "\n",
       "                                                     Ejercicio del Derecho  \\\n",
       "Fecha de Resolución Envío al Juez Inscripción C...                           \n",
       "2013-10-11                                          Eventual y Discontinuo   \n",
       "2002-03-27                                             Eventual y Continuo   \n",
       "2002-05-07                                          Eventual y Discontinuo   \n",
       "2002-05-07                                          Eventual y Discontinuo   \n",
       "2004-06-02                                           Permanente y Continuo   \n",
       "2004-06-02                                           Permanente y Continuo   \n",
       "1969-10-24                                           Permanente y Continuo   \n",
       "\n",
       "                                                     Tipo Derecho  \\\n",
       "Fecha de Resolución Envío al Juez Inscripción C...                  \n",
       "2013-10-11                                          No Consuntivo   \n",
       "2002-03-27                                             Consuntivo   \n",
       "2002-05-07                                             Consuntivo   \n",
       "2002-05-07                                             Consuntivo   \n",
       "2004-06-02                                             Consuntivo   \n",
       "2004-06-02                                             Consuntivo   \n",
       "1969-10-24                                             Consuntivo   \n",
       "\n",
       "                                                                               Nombre Solicitante  \\\n",
       "Fecha de Resolución Envío al Juez Inscripción C...                                                  \n",
       "2013-10-11                                                 FISCO - DIRECCION DE OBRAS HIDRAULICAS   \n",
       "2002-03-27                                          FISCO, DIRECCION DE OBRAS HIDRAULICAS S/N S/N   \n",
       "2002-05-07                                          FISCO, DIRECCION DE OBRAS HIDRAULICAS S/N S/N   \n",
       "2002-05-07                                          FISCO, DIRECCION DE OBRAS HIDRAULICAS S/N S/N   \n",
       "2004-06-02                                                                FISCO EJERCITO DE CHILE   \n",
       "2004-06-02                                                                FISCO EJERCITO DE CHILE   \n",
       "1969-10-24                                                                                  FISCO   \n",
       "\n",
       "                                                   Clasificación Fuente  \\\n",
       "Fecha de Resolución Envío al Juez Inscripción C...                        \n",
       "2013-10-11                                                   Rio/Estero   \n",
       "2002-03-27                                                   Rio/Estero   \n",
       "2002-05-07                                                   Rio/Estero   \n",
       "2002-05-07                                                   Rio/Estero   \n",
       "2004-06-02                                                     Acuifero   \n",
       "2004-06-02                                                     Acuifero   \n",
       "1969-10-24                                                     Acuifero   \n",
       "\n",
       "                                                    Caudal AnualProm  \n",
       "Fecha de Resolución Envío al Juez Inscripción C...                    \n",
       "2013-10-11                                                 1586.4167  \n",
       "2002-03-27                                                  570.7763  \n",
       "2002-05-07                                                   70.0000  \n",
       "2002-05-07                                                  241.6667  \n",
       "2004-06-02                                                   20.0000  \n",
       "2004-06-02                                                   15.0000  \n",
       "1969-10-24                                                  200.0000  "
      ]
     },
     "execution_count": 8,
     "metadata": {},
     "output_type": "execute_result"
    }
   ],
   "source": [
    "busca(df, 'FISCO', column=short['usuario'])"
   ]
  },
  {
   "cell_type": "code",
   "execution_count": 9,
   "metadata": {
    "collapsed": false
   },
   "outputs": [
    {
     "name": "stdout",
     "output_type": "stream",
     "text": [
      "Derechos reservados por el FISCO en la Region XV:\n",
      "2703.8597 [l/s]\n"
     ]
    }
   ],
   "source": [
    "print 'Derechos reservados por el FISCO en la Region %s:' % region\n",
    "print '%s [l/s]' % busca(df, 'FISCO', column=short['usuario'])[short['caudal']].sum()"
   ]
  },
  {
   "cell_type": "code",
   "execution_count": null,
   "metadata": {
    "collapsed": false
   },
   "outputs": [],
   "source": []
  }
 ],
 "metadata": {
  "kernelspec": {
   "display_name": "Python 2",
   "language": "python",
   "name": "python2"
  },
  "language_info": {
   "codemirror_mode": {
    "name": "ipython",
    "version": 2
   },
   "file_extension": ".py",
   "mimetype": "text/x-python",
   "name": "python",
   "nbconvert_exporter": "python",
   "pygments_lexer": "ipython2",
   "version": "2.7.11"
  }
 },
 "nbformat": 4,
 "nbformat_minor": 0
}
