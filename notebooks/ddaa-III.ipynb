{
 "cells": [
  {
   "cell_type": "code",
   "execution_count": 1,
   "metadata": {
    "collapsed": true
   },
   "outputs": [],
   "source": [
    "from IPython.display import display, HTML"
   ]
  },
  {
   "cell_type": "code",
   "execution_count": 2,
   "metadata": {
    "collapsed": true
   },
   "outputs": [],
   "source": [
    "%run ../ddaa.py"
   ]
  },
  {
   "cell_type": "code",
   "execution_count": 3,
   "metadata": {
    "collapsed": true
   },
   "outputs": [],
   "source": [
    "# Region a analizar\n",
    "region = 'III'"
   ]
  },
  {
   "cell_type": "code",
   "execution_count": 4,
   "metadata": {
    "collapsed": false
   },
   "outputs": [],
   "source": [
    "# Genera DataFrame con ddaa\n",
    "meta = open_meta()\n",
    "df = open_ddaa(meta['path'][region])"
   ]
  },
  {
   "cell_type": "code",
   "execution_count": 5,
   "metadata": {
    "collapsed": true
   },
   "outputs": [],
   "source": [
    "# Nombre columna usuario distinto a otras regiones\n",
    "short['usuario'] = [u'Nombres Usuarios', u'Nombre Solicitante']\n",
    "short['usuario'] = [i for i in df.columns if i in short['usuario']][0]"
   ]
  },
  {
   "cell_type": "code",
   "execution_count": 6,
   "metadata": {
    "collapsed": false
   },
   "outputs": [],
   "source": [
    "# Derechos agrupados por provincia\n",
    "gb = df.groupby(u'Provincia')"
   ]
  },
  {
   "cell_type": "code",
   "execution_count": 7,
   "metadata": {
    "collapsed": false,
    "scrolled": false
   },
   "outputs": [
    {
     "data": {
      "text/html": [
       "<center><h2>Top 10 derechos otorgados Huasco</h2></center>"
      ],
      "text/plain": [
       "<IPython.core.display.HTML object>"
      ]
     },
     "metadata": {},
     "output_type": "display_data"
    },
    {
     "data": {
      "text/html": [
       "<div>\n",
       "<table border=\"1\" class=\"dataframe\">\n",
       "  <thead>\n",
       "    <tr style=\"text-align: right;\">\n",
       "      <th></th>\n",
       "      <th>Nombres Usuarios</th>\n",
       "      <th>Caudal AnualProm</th>\n",
       "    </tr>\n",
       "    <tr>\n",
       "      <th>Fecha de Resolución Envío al Juez Inscripción C.B.R.</th>\n",
       "      <th></th>\n",
       "      <th></th>\n",
       "    </tr>\n",
       "  </thead>\n",
       "  <tbody>\n",
       "    <tr>\n",
       "      <th>1993-03-09</th>\n",
       "      <td>FISCO, DIRECCION DE OBRAS HIDRAULICAS S/N S/N</td>\n",
       "      <td>9512.9376</td>\n",
       "    </tr>\n",
       "    <tr>\n",
       "      <th>2014-03-17</th>\n",
       "      <td>INVERSIONES NOCEDAL LIMITADA</td>\n",
       "      <td>3458.3333</td>\n",
       "    </tr>\n",
       "    <tr>\n",
       "      <th>1925-02-09</th>\n",
       "      <td>CIA. GALLO Y CIA. LTDA.</td>\n",
       "      <td>1500.0000</td>\n",
       "    </tr>\n",
       "    <tr>\n",
       "      <th>1982-06-30</th>\n",
       "      <td>SOC. AGRICOLA HACIENDA LAS VANTANAS S.A.</td>\n",
       "      <td>960.0000</td>\n",
       "    </tr>\n",
       "    <tr>\n",
       "      <th>1943-06-04</th>\n",
       "      <td>CAJA DE CREDITO MINERO</td>\n",
       "      <td>463.0000</td>\n",
       "    </tr>\n",
       "    <tr>\n",
       "      <th>2011-09-05</th>\n",
       "      <td>AGROCOMERCIAL AS LIMITADA</td>\n",
       "      <td>300.0000</td>\n",
       "    </tr>\n",
       "    <tr>\n",
       "      <th>2011-09-05</th>\n",
       "      <td>AGROCOMERCIAL AS LIMITADA</td>\n",
       "      <td>300.0000</td>\n",
       "    </tr>\n",
       "    <tr>\n",
       "      <th>2011-09-05</th>\n",
       "      <td>AGROCOMERCIAL AS LIMITADA</td>\n",
       "      <td>300.0000</td>\n",
       "    </tr>\n",
       "    <tr>\n",
       "      <th>2012-09-26</th>\n",
       "      <td>AGROCOMERCIAL AS LIMITADA</td>\n",
       "      <td>274.7100</td>\n",
       "    </tr>\n",
       "    <tr>\n",
       "      <th>1920-12-09</th>\n",
       "      <td>FISCO, RESERVA</td>\n",
       "      <td>200.0000</td>\n",
       "    </tr>\n",
       "  </tbody>\n",
       "</table>\n",
       "</div>"
      ],
      "text/plain": [
       "                                                                                 Nombres Usuarios  \\\n",
       "Fecha de Resolución Envío al Juez Inscripción C...                                                  \n",
       "1993-03-09                                          FISCO, DIRECCION DE OBRAS HIDRAULICAS S/N S/N   \n",
       "2014-03-17                                                           INVERSIONES NOCEDAL LIMITADA   \n",
       "1925-02-09                                                                CIA. GALLO Y CIA. LTDA.   \n",
       "1982-06-30                                               SOC. AGRICOLA HACIENDA LAS VANTANAS S.A.   \n",
       "1943-06-04                                                                 CAJA DE CREDITO MINERO   \n",
       "2011-09-05                                                              AGROCOMERCIAL AS LIMITADA   \n",
       "2011-09-05                                                              AGROCOMERCIAL AS LIMITADA   \n",
       "2011-09-05                                                              AGROCOMERCIAL AS LIMITADA   \n",
       "2012-09-26                                                              AGROCOMERCIAL AS LIMITADA   \n",
       "1920-12-09                                                                         FISCO, RESERVA   \n",
       "\n",
       "                                                    Caudal AnualProm  \n",
       "Fecha de Resolución Envío al Juez Inscripción C...                    \n",
       "1993-03-09                                                 9512.9376  \n",
       "2014-03-17                                                 3458.3333  \n",
       "1925-02-09                                                 1500.0000  \n",
       "1982-06-30                                                  960.0000  \n",
       "1943-06-04                                                  463.0000  \n",
       "2011-09-05                                                  300.0000  \n",
       "2011-09-05                                                  300.0000  \n",
       "2011-09-05                                                  300.0000  \n",
       "2012-09-26                                                  274.7100  \n",
       "1920-12-09                                                  200.0000  "
      ]
     },
     "metadata": {},
     "output_type": "display_data"
    },
    {
     "data": {
      "image/png": "[encoded data removed]",
      "text/plain": [
       "<matplotlib.figure.Figure at 0xa1d1eb8>"
      ]
     },
     "metadata": {},
     "output_type": "display_data"
    },
    {
     "data": {
      "text/html": [
       "<center><h2>Top 10 derechos otorgados Copiapo</h2></center>"
      ],
      "text/plain": [
       "<IPython.core.display.HTML object>"
      ]
     },
     "metadata": {},
     "output_type": "display_data"
    },
    {
     "data": {
      "text/html": [
       "<div>\n",
       "<table border=\"1\" class=\"dataframe\">\n",
       "  <thead>\n",
       "    <tr style=\"text-align: right;\">\n",
       "      <th></th>\n",
       "      <th>Nombres Usuarios</th>\n",
       "      <th>Caudal AnualProm</th>\n",
       "    </tr>\n",
       "    <tr>\n",
       "      <th>Fecha de Resolución Envío al Juez Inscripción C.B.R.</th>\n",
       "      <th></th>\n",
       "      <th></th>\n",
       "    </tr>\n",
       "  </thead>\n",
       "  <tbody>\n",
       "    <tr>\n",
       "      <th>1992-02-21</th>\n",
       "      <td>SOCIEDAD AGRICOLA IGLESIA COLORADA S.A.</td>\n",
       "      <td>1700.0000</td>\n",
       "    </tr>\n",
       "    <tr>\n",
       "      <th>1950-11-08</th>\n",
       "      <td>ANTONIO CERVIDO PRIETO</td>\n",
       "      <td>1000.0000</td>\n",
       "    </tr>\n",
       "    <tr>\n",
       "      <th>2001-06-25</th>\n",
       "      <td>ALFONSO PROHENS ARIAS</td>\n",
       "      <td>637.0000</td>\n",
       "    </tr>\n",
       "    <tr>\n",
       "      <th>1990-01-15</th>\n",
       "      <td>I. MUNICIPALIDAD DE COPIAPO</td>\n",
       "      <td>450.0000</td>\n",
       "    </tr>\n",
       "    <tr>\n",
       "      <th>1907-07-10</th>\n",
       "      <td>RICARDO ABINES</td>\n",
       "      <td>400.0000</td>\n",
       "    </tr>\n",
       "    <tr>\n",
       "      <th>1988-08-29</th>\n",
       "      <td>SOCIEDAD AGRICOLA ATACAMA S.A.</td>\n",
       "      <td>400.0000</td>\n",
       "    </tr>\n",
       "    <tr>\n",
       "      <th>1969-07-17</th>\n",
       "      <td>GUILLERMO STEIN MORING Y OTROS</td>\n",
       "      <td>356.2037</td>\n",
       "    </tr>\n",
       "    <tr>\n",
       "      <th>2000-12-28</th>\n",
       "      <td>ALFONSO PROHENS ARIAS</td>\n",
       "      <td>350.0000</td>\n",
       "    </tr>\n",
       "    <tr>\n",
       "      <th>1963-07-02</th>\n",
       "      <td>CESAR SUMAR PACHA</td>\n",
       "      <td>340.0000</td>\n",
       "    </tr>\n",
       "    <tr>\n",
       "      <th>1983-07-13</th>\n",
       "      <td>COMPAÑIA MINERA ANGLO-COMINCO LIMITADA</td>\n",
       "      <td>300.0000</td>\n",
       "    </tr>\n",
       "  </tbody>\n",
       "</table>\n",
       "</div>"
      ],
      "text/plain": [
       "                                                                           Nombres Usuarios  \\\n",
       "Fecha de Resolución Envío al Juez Inscripción C...                                            \n",
       "1992-02-21                                          SOCIEDAD AGRICOLA IGLESIA COLORADA S.A.   \n",
       "1950-11-08                                                           ANTONIO CERVIDO PRIETO   \n",
       "2001-06-25                                                            ALFONSO PROHENS ARIAS   \n",
       "1990-01-15                                                      I. MUNICIPALIDAD DE COPIAPO   \n",
       "1907-07-10                                                                   RICARDO ABINES   \n",
       "1988-08-29                                                   SOCIEDAD AGRICOLA ATACAMA S.A.   \n",
       "1969-07-17                                                   GUILLERMO STEIN MORING Y OTROS   \n",
       "2000-12-28                                                            ALFONSO PROHENS ARIAS   \n",
       "1963-07-02                                                                CESAR SUMAR PACHA   \n",
       "1983-07-13                                           COMPAÑIA MINERA ANGLO-COMINCO LIMITADA   \n",
       "\n",
       "                                                    Caudal AnualProm  \n",
       "Fecha de Resolución Envío al Juez Inscripción C...                    \n",
       "1992-02-21                                                 1700.0000  \n",
       "1950-11-08                                                 1000.0000  \n",
       "2001-06-25                                                  637.0000  \n",
       "1990-01-15                                                  450.0000  \n",
       "1907-07-10                                                  400.0000  \n",
       "1988-08-29                                                  400.0000  \n",
       "1969-07-17                                                  356.2037  \n",
       "2000-12-28                                                  350.0000  \n",
       "1963-07-02                                                  340.0000  \n",
       "1983-07-13                                                  300.0000  "
      ]
     },
     "metadata": {},
     "output_type": "display_data"
    },
    {
     "data": {
      "image/png": "[encoded data removed]",
      "text/plain": [
       "<matplotlib.figure.Figure at 0xa9a8630>"
      ]
     },
     "metadata": {},
     "output_type": "display_data"
    },
    {
     "data": {
      "text/html": [
       "<center><h2>Top 10 derechos otorgados Chañaral</h2></center>"
      ],
      "text/plain": [
       "<IPython.core.display.HTML object>"
      ]
     },
     "metadata": {},
     "output_type": "display_data"
    },
    {
     "data": {
      "text/html": [
       "<div>\n",
       "<table border=\"1\" class=\"dataframe\">\n",
       "  <thead>\n",
       "    <tr style=\"text-align: right;\">\n",
       "      <th></th>\n",
       "      <th>Nombres Usuarios</th>\n",
       "      <th>Caudal AnualProm</th>\n",
       "    </tr>\n",
       "    <tr>\n",
       "      <th>Fecha de Resolución Envío al Juez Inscripción C.B.R.</th>\n",
       "      <th></th>\n",
       "      <th></th>\n",
       "    </tr>\n",
       "  </thead>\n",
       "  <tbody>\n",
       "    <tr>\n",
       "      <th>1981-09-28</th>\n",
       "      <td>CIA.MINERA ARENILLAS</td>\n",
       "      <td>700.00</td>\n",
       "    </tr>\n",
       "    <tr>\n",
       "      <th>1985-01-07</th>\n",
       "      <td>CORPORACION NACIONAL DEL COBRE DE CHILE, DIVIS...</td>\n",
       "      <td>411.23</td>\n",
       "    </tr>\n",
       "    <tr>\n",
       "      <th>1985-08-23</th>\n",
       "      <td>GUMERCINDA TRABUCCO RIVERA</td>\n",
       "      <td>350.00</td>\n",
       "    </tr>\n",
       "    <tr>\n",
       "      <th>1985-08-23</th>\n",
       "      <td>GUMERCINDA TRABUCCO RIVERA</td>\n",
       "      <td>350.00</td>\n",
       "    </tr>\n",
       "    <tr>\n",
       "      <th>2007-01-29</th>\n",
       "      <td>AMX DE CHILE S.A.</td>\n",
       "      <td>125.00</td>\n",
       "    </tr>\n",
       "    <tr>\n",
       "      <th>2006-09-04</th>\n",
       "      <td>COMPAÑIA MINERA CASALE S/N S/N</td>\n",
       "      <td>121.00</td>\n",
       "    </tr>\n",
       "    <tr>\n",
       "      <th>2006-09-04</th>\n",
       "      <td>COMPAÑIA MINERA CASALE S/N S/N</td>\n",
       "      <td>120.00</td>\n",
       "    </tr>\n",
       "    <tr>\n",
       "      <th>2000-11-09</th>\n",
       "      <td>CORPORACION NACIONAL DEL COBRE DE CHILE, DIVIS...</td>\n",
       "      <td>120.00</td>\n",
       "    </tr>\n",
       "    <tr>\n",
       "      <th>2006-09-04</th>\n",
       "      <td>COMPAÑIA MINERA CASALE S/N S/N</td>\n",
       "      <td>110.00</td>\n",
       "    </tr>\n",
       "    <tr>\n",
       "      <th>2014-05-12</th>\n",
       "      <td>CORPORACION NACIONAL DEL COBRE, CODELCO CHILE,...</td>\n",
       "      <td>105.00</td>\n",
       "    </tr>\n",
       "  </tbody>\n",
       "</table>\n",
       "</div>"
      ],
      "text/plain": [
       "                                                                                     Nombres Usuarios  \\\n",
       "Fecha de Resolución Envío al Juez Inscripción C...                                                      \n",
       "1981-09-28                                                                       CIA.MINERA ARENILLAS   \n",
       "1985-01-07                                          CORPORACION NACIONAL DEL COBRE DE CHILE, DIVIS...   \n",
       "1985-08-23                                                                 GUMERCINDA TRABUCCO RIVERA   \n",
       "1985-08-23                                                                 GUMERCINDA TRABUCCO RIVERA   \n",
       "2007-01-29                                                                          AMX DE CHILE S.A.   \n",
       "2006-09-04                                                             COMPAÑIA MINERA CASALE S/N S/N   \n",
       "2006-09-04                                                             COMPAÑIA MINERA CASALE S/N S/N   \n",
       "2000-11-09                                          CORPORACION NACIONAL DEL COBRE DE CHILE, DIVIS...   \n",
       "2006-09-04                                                             COMPAÑIA MINERA CASALE S/N S/N   \n",
       "2014-05-12                                          CORPORACION NACIONAL DEL COBRE, CODELCO CHILE,...   \n",
       "\n",
       "                                                    Caudal AnualProm  \n",
       "Fecha de Resolución Envío al Juez Inscripción C...                    \n",
       "1981-09-28                                                    700.00  \n",
       "1985-01-07                                                    411.23  \n",
       "1985-08-23                                                    350.00  \n",
       "1985-08-23                                                    350.00  \n",
       "2007-01-29                                                    125.00  \n",
       "2006-09-04                                                    121.00  \n",
       "2006-09-04                                                    120.00  \n",
       "2000-11-09                                                    120.00  \n",
       "2006-09-04                                                    110.00  \n",
       "2014-05-12                                                    105.00  "
      ]
     },
     "metadata": {},
     "output_type": "display_data"
    },
    {
     "data": {
      "image/png": "[encoded data removed]",
      "text/plain": [
       "<matplotlib.figure.Figure at 0xaf0f2e8>"
      ]
     },
     "metadata": {},
     "output_type": "display_data"
    }
   ],
   "source": [
    "for p in gb.groups.keys():\n",
    "    \n",
    "    display(HTML('<center><h2>Top 10 derechos otorgados %s</h2></center>'%p))\n",
    "    display(top_ddaa(gb.get_group(p), n=10))\n",
    "    ax = gb.get_group(p)[short['caudal']].plot(title='Derechos otorgados %s'%p, style='x', figsize=(15, 7.5))\n",
    "    zoom(ax)\n",
    "    plt.show()"
   ]
  },
  {
   "cell_type": "code",
   "execution_count": 8,
   "metadata": {
    "collapsed": false
   },
   "outputs": [
    {
     "data": {
      "text/html": [
       "<div>\n",
       "<table border=\"1\" class=\"dataframe\">\n",
       "  <thead>\n",
       "    <tr style=\"text-align: right;\">\n",
       "      <th></th>\n",
       "      <th>Naturaleza del Agua</th>\n",
       "      <th>Ejercicio del Derecho</th>\n",
       "      <th>Tipo Derecho</th>\n",
       "      <th>Nombres Usuarios</th>\n",
       "      <th>Clasificación Fuente</th>\n",
       "      <th>Caudal AnualProm</th>\n",
       "    </tr>\n",
       "    <tr>\n",
       "      <th>Fecha de Resolución Envío al Juez Inscripción C.B.R.</th>\n",
       "      <th></th>\n",
       "      <th></th>\n",
       "      <th></th>\n",
       "      <th></th>\n",
       "      <th></th>\n",
       "      <th></th>\n",
       "    </tr>\n",
       "  </thead>\n",
       "  <tbody>\n",
       "    <tr>\n",
       "      <th>1920-12-09</th>\n",
       "      <td>Subterranea</td>\n",
       "      <td>Permanente y Continuo</td>\n",
       "      <td>Consuntivo</td>\n",
       "      <td>FISCO, RESERVA</td>\n",
       "      <td>Acuifero</td>\n",
       "      <td>200.0000</td>\n",
       "    </tr>\n",
       "    <tr>\n",
       "      <th>1968-11-06</th>\n",
       "      <td>Subterranea</td>\n",
       "      <td>Permanente y Continuo</td>\n",
       "      <td>Consuntivo</td>\n",
       "      <td>FISCO, RESERVA</td>\n",
       "      <td>Acuifero</td>\n",
       "      <td>200.0000</td>\n",
       "    </tr>\n",
       "    <tr>\n",
       "      <th>1993-03-09</th>\n",
       "      <td>Superficial</td>\n",
       "      <td>Eventual y Continuo</td>\n",
       "      <td>Consuntivo</td>\n",
       "      <td>FISCO, DIRECCION DE OBRAS HIDRAULICAS S/N S/N</td>\n",
       "      <td>Rio/Estero</td>\n",
       "      <td>9512.9376</td>\n",
       "    </tr>\n",
       "  </tbody>\n",
       "</table>\n",
       "</div>"
      ],
      "text/plain": [
       "                                                   Naturaleza del Agua  \\\n",
       "Fecha de Resolución Envío al Juez Inscripción C...                       \n",
       "1920-12-09                                                 Subterranea   \n",
       "1968-11-06                                                 Subterranea   \n",
       "1993-03-09                                                 Superficial   \n",
       "\n",
       "                                                    Ejercicio del Derecho  \\\n",
       "Fecha de Resolución Envío al Juez Inscripción C...                          \n",
       "1920-12-09                                          Permanente y Continuo   \n",
       "1968-11-06                                          Permanente y Continuo   \n",
       "1993-03-09                                            Eventual y Continuo   \n",
       "\n",
       "                                                   Tipo Derecho  \\\n",
       "Fecha de Resolución Envío al Juez Inscripción C...                \n",
       "1920-12-09                                           Consuntivo   \n",
       "1968-11-06                                           Consuntivo   \n",
       "1993-03-09                                           Consuntivo   \n",
       "\n",
       "                                                                                 Nombres Usuarios  \\\n",
       "Fecha de Resolución Envío al Juez Inscripción C...                                                  \n",
       "1920-12-09                                                                         FISCO, RESERVA   \n",
       "1968-11-06                                                                         FISCO, RESERVA   \n",
       "1993-03-09                                          FISCO, DIRECCION DE OBRAS HIDRAULICAS S/N S/N   \n",
       "\n",
       "                                                   Clasificación Fuente  \\\n",
       "Fecha de Resolución Envío al Juez Inscripción C...                        \n",
       "1920-12-09                                                     Acuifero   \n",
       "1968-11-06                                                     Acuifero   \n",
       "1993-03-09                                                   Rio/Estero   \n",
       "\n",
       "                                                    Caudal AnualProm  \n",
       "Fecha de Resolución Envío al Juez Inscripción C...                    \n",
       "1920-12-09                                                  200.0000  \n",
       "1968-11-06                                                  200.0000  \n",
       "1993-03-09                                                 9512.9376  "
      ]
     },
     "execution_count": 8,
     "metadata": {},
     "output_type": "execute_result"
    }
   ],
   "source": [
    "busca(df, 'FISCO', column=short['usuario'])"
   ]
  },
  {
   "cell_type": "code",
   "execution_count": 9,
   "metadata": {
    "collapsed": false
   },
   "outputs": [
    {
     "name": "stdout",
     "output_type": "stream",
     "text": [
      "Derechos reservados por el FISCO en la Region III:\n",
      "9912.9376 [l/s]\n"
     ]
    }
   ],
   "source": [
    "print 'Derechos reservados por el FISCO en la Region %s:' % region\n",
    "print '%s [l/s]' % busca(df, 'FISCO', column=short['usuario'])[short['caudal']].sum()"
   ]
  },
  {
   "cell_type": "code",
   "execution_count": null,
   "metadata": {
    "collapsed": false
   },
   "outputs": [],
   "source": []
  }
 ],
 "metadata": {
  "kernelspec": {
   "display_name": "Python 2",
   "language": "python",
   "name": "python2"
  },
  "language_info": {
   "codemirror_mode": {
    "name": "ipython",
    "version": 2
   },
   "file_extension": ".py",
   "mimetype": "text/x-python",
   "name": "python",
   "nbconvert_exporter": "python",
   "pygments_lexer": "ipython2",
   "version": "2.7.11"
  }
 },
 "nbformat": 4,
 "nbformat_minor": 0
}
