{
 "cells": [
  {
   "cell_type": "code",
   "execution_count": 1,
   "metadata": {
    "collapsed": true
   },
   "outputs": [],
   "source": [
    "from IPython.display import display, HTML"
   ]
  },
  {
   "cell_type": "code",
   "execution_count": 2,
   "metadata": {
    "collapsed": true
   },
   "outputs": [],
   "source": [
    "%run ../ddaa.py"
   ]
  },
  {
   "cell_type": "code",
   "execution_count": 3,
   "metadata": {
    "collapsed": true
   },
   "outputs": [],
   "source": [
    "# Region a analizar\n",
    "region = 'II'"
   ]
  },
  {
   "cell_type": "code",
   "execution_count": 4,
   "metadata": {
    "collapsed": false
   },
   "outputs": [],
   "source": [
    "# Genera DataFrame con ddaa\n",
    "meta = open_meta()\n",
    "df = open_ddaa(meta['path'][region])"
   ]
  },
  {
   "cell_type": "code",
   "execution_count": 5,
   "metadata": {
    "collapsed": false
   },
   "outputs": [],
   "source": [
    "# Derechos agrupados por provincia\n",
    "gb = df.groupby(u'Provincia')"
   ]
  },
  {
   "cell_type": "code",
   "execution_count": 6,
   "metadata": {
    "collapsed": false,
    "scrolled": false
   },
   "outputs": [
    {
     "data": {
      "text/html": [
       "<center><h2>Top 10 derechos otorgados Tocopilla</h2></center>"
      ],
      "text/plain": [
       "<IPython.core.display.HTML object>"
      ]
     },
     "metadata": {},
     "output_type": "display_data"
    },
    {
     "data": {
      "text/html": [
       "<div>\n",
       "<table border=\"1\" class=\"dataframe\">\n",
       "  <thead>\n",
       "    <tr style=\"text-align: right;\">\n",
       "      <th></th>\n",
       "      <th>Nombre Solicitante</th>\n",
       "      <th>Caudal AnualProm</th>\n",
       "    </tr>\n",
       "    <tr>\n",
       "      <th>Fecha de Resolución Envío al Juez Inscripción C.B.R.</th>\n",
       "      <th></th>\n",
       "      <th></th>\n",
       "    </tr>\n",
       "  </thead>\n",
       "  <tbody>\n",
       "    <tr>\n",
       "      <th>1999-12-01</th>\n",
       "      <td>SOCIEDAD QUIMICA Y MINERA DE CHILE S.A. S/N S/N</td>\n",
       "      <td>92.7500</td>\n",
       "    </tr>\n",
       "    <tr>\n",
       "      <th>1999-12-01</th>\n",
       "      <td>SOCIEDAD QUIMICA Y MINERA DE CHILE S.A. S/N S/N</td>\n",
       "      <td>74.1667</td>\n",
       "    </tr>\n",
       "    <tr>\n",
       "      <th>1956-04-06</th>\n",
       "      <td>CIA. SALITRERA ANGLO LAUTARO.</td>\n",
       "      <td>57.0000</td>\n",
       "    </tr>\n",
       "    <tr>\n",
       "      <th>1921-02-19</th>\n",
       "      <td>CIA. SALITRERA TOCOPILLA</td>\n",
       "      <td>54.0000</td>\n",
       "    </tr>\n",
       "    <tr>\n",
       "      <th>1962-06-14</th>\n",
       "      <td>MINERALIA SOCIEDAD CONTRACTUAL MINERA</td>\n",
       "      <td>50.0000</td>\n",
       "    </tr>\n",
       "    <tr>\n",
       "      <th>1932-04-06</th>\n",
       "      <td>THE LAUTARO NITRATE CO. LTDA.</td>\n",
       "      <td>50.0000</td>\n",
       "    </tr>\n",
       "    <tr>\n",
       "      <th>2005-06-15</th>\n",
       "      <td>RICARDO GOMEZ MORALES</td>\n",
       "      <td>37.5000</td>\n",
       "    </tr>\n",
       "    <tr>\n",
       "      <th>1929-04-04</th>\n",
       "      <td>THE LAUTARO NITRATE CO. LTDA.</td>\n",
       "      <td>34.0000</td>\n",
       "    </tr>\n",
       "    <tr>\n",
       "      <th>1956-04-06</th>\n",
       "      <td>CIA. SALITRERA ANGLO LAUTARO.</td>\n",
       "      <td>33.0000</td>\n",
       "    </tr>\n",
       "    <tr>\n",
       "      <th>2005-06-15</th>\n",
       "      <td>SOCIEDAD QUIMICA Y MINERA DE CHILE S.A.</td>\n",
       "      <td>27.0000</td>\n",
       "    </tr>\n",
       "  </tbody>\n",
       "</table>\n",
       "</div>"
      ],
      "text/plain": [
       "                                                                                 Nombre Solicitante  \\\n",
       "Fecha de Resolución Envío al Juez Inscripción C...                                                    \n",
       "1999-12-01                                          SOCIEDAD QUIMICA Y MINERA DE CHILE S.A. S/N S/N   \n",
       "1999-12-01                                          SOCIEDAD QUIMICA Y MINERA DE CHILE S.A. S/N S/N   \n",
       "1956-04-06                                                            CIA. SALITRERA ANGLO LAUTARO.   \n",
       "1921-02-19                                                                 CIA. SALITRERA TOCOPILLA   \n",
       "1962-06-14                                                    MINERALIA SOCIEDAD CONTRACTUAL MINERA   \n",
       "1932-04-06                                                            THE LAUTARO NITRATE CO. LTDA.   \n",
       "2005-06-15                                                                    RICARDO GOMEZ MORALES   \n",
       "1929-04-04                                                            THE LAUTARO NITRATE CO. LTDA.   \n",
       "1956-04-06                                                            CIA. SALITRERA ANGLO LAUTARO.   \n",
       "2005-06-15                                                  SOCIEDAD QUIMICA Y MINERA DE CHILE S.A.   \n",
       "\n",
       "                                                    Caudal AnualProm  \n",
       "Fecha de Resolución Envío al Juez Inscripción C...                    \n",
       "1999-12-01                                                   92.7500  \n",
       "1999-12-01                                                   74.1667  \n",
       "1956-04-06                                                   57.0000  \n",
       "1921-02-19                                                   54.0000  \n",
       "1962-06-14                                                   50.0000  \n",
       "1932-04-06                                                   50.0000  \n",
       "2005-06-15                                                   37.5000  \n",
       "1929-04-04                                                   34.0000  \n",
       "1956-04-06                                                   33.0000  \n",
       "2005-06-15                                                   27.0000  "
      ]
     },
     "metadata": {},
     "output_type": "display_data"
    },
    {
     "data": {
      "image/png": "[encoded data removed]",
      "text/plain": [
       "<matplotlib.figure.Figure at 0xa2eb390>"
      ]
     },
     "metadata": {},
     "output_type": "display_data"
    },
    {
     "data": {
      "text/html": [
       "<center><h2>Top 10 derechos otorgados El Loa</h2></center>"
      ],
      "text/plain": [
       "<IPython.core.display.HTML object>"
      ]
     },
     "metadata": {},
     "output_type": "display_data"
    },
    {
     "data": {
      "text/html": [
       "<div>\n",
       "<table border=\"1\" class=\"dataframe\">\n",
       "  <thead>\n",
       "    <tr style=\"text-align: right;\">\n",
       "      <th></th>\n",
       "      <th>Nombre Solicitante</th>\n",
       "      <th>Caudal AnualProm</th>\n",
       "    </tr>\n",
       "    <tr>\n",
       "      <th>Fecha de Resolución Envío al Juez Inscripción C.B.R.</th>\n",
       "      <th></th>\n",
       "      <th></th>\n",
       "    </tr>\n",
       "  </thead>\n",
       "  <tbody>\n",
       "    <tr>\n",
       "      <th>1911-11-20</th>\n",
       "      <td>CARLOS DE LA FUENTE</td>\n",
       "      <td>2500.0</td>\n",
       "    </tr>\n",
       "    <tr>\n",
       "      <th>1987-10-19</th>\n",
       "      <td>DIRECCION DE RIEGO (RESERVA)</td>\n",
       "      <td>1350.0</td>\n",
       "    </tr>\n",
       "    <tr>\n",
       "      <th>1999-10-04</th>\n",
       "      <td>COMUNIDAD ATACAMEÑA DE RIO GRANDE Y OTROS</td>\n",
       "      <td>870.0</td>\n",
       "    </tr>\n",
       "    <tr>\n",
       "      <th>1986-06-13</th>\n",
       "      <td>SENDOS II REGION</td>\n",
       "      <td>800.0</td>\n",
       "    </tr>\n",
       "    <tr>\n",
       "      <th>1977-08-01</th>\n",
       "      <td>FISCO (DIRECCION DE OBRAS SANITARIAS)</td>\n",
       "      <td>600.0</td>\n",
       "    </tr>\n",
       "    <tr>\n",
       "      <th>1985-12-11</th>\n",
       "      <td>SENDOS</td>\n",
       "      <td>550.0</td>\n",
       "    </tr>\n",
       "    <tr>\n",
       "      <th>1985-12-11</th>\n",
       "      <td>SENDOS</td>\n",
       "      <td>470.0</td>\n",
       "    </tr>\n",
       "    <tr>\n",
       "      <th>1980-05-29</th>\n",
       "      <td>CHILE EXPLORATION CO.</td>\n",
       "      <td>450.0</td>\n",
       "    </tr>\n",
       "    <tr>\n",
       "      <th>1955-06-17</th>\n",
       "      <td>CHILE EXPLORATION CO.</td>\n",
       "      <td>400.0</td>\n",
       "    </tr>\n",
       "    <tr>\n",
       "      <th>1985-02-19</th>\n",
       "      <td>SENDOS (EMBALSE CONCHI)</td>\n",
       "      <td>300.0</td>\n",
       "    </tr>\n",
       "  </tbody>\n",
       "</table>\n",
       "</div>"
      ],
      "text/plain": [
       "                                                                           Nombre Solicitante  \\\n",
       "Fecha de Resolución Envío al Juez Inscripción C...                                              \n",
       "1911-11-20                                                                CARLOS DE LA FUENTE   \n",
       "1987-10-19                                                       DIRECCION DE RIEGO (RESERVA)   \n",
       "1999-10-04                                          COMUNIDAD ATACAMEÑA DE RIO GRANDE Y OTROS   \n",
       "1986-06-13                                                                   SENDOS II REGION   \n",
       "1977-08-01                                              FISCO (DIRECCION DE OBRAS SANITARIAS)   \n",
       "1985-12-11                                                                             SENDOS   \n",
       "1985-12-11                                                                             SENDOS   \n",
       "1980-05-29                                                              CHILE EXPLORATION CO.   \n",
       "1955-06-17                                                              CHILE EXPLORATION CO.   \n",
       "1985-02-19                                                            SENDOS (EMBALSE CONCHI)   \n",
       "\n",
       "                                                    Caudal AnualProm  \n",
       "Fecha de Resolución Envío al Juez Inscripción C...                    \n",
       "1911-11-20                                                    2500.0  \n",
       "1987-10-19                                                    1350.0  \n",
       "1999-10-04                                                     870.0  \n",
       "1986-06-13                                                     800.0  \n",
       "1977-08-01                                                     600.0  \n",
       "1985-12-11                                                     550.0  \n",
       "1985-12-11                                                     470.0  \n",
       "1980-05-29                                                     450.0  \n",
       "1955-06-17                                                     400.0  \n",
       "1985-02-19                                                     300.0  "
      ]
     },
     "metadata": {},
     "output_type": "display_data"
    },
    {
     "data": {
      "image/png": "[encoded data removed]",
      "text/plain": [
       "<matplotlib.figure.Figure at 0xa6d9748>"
      ]
     },
     "metadata": {},
     "output_type": "display_data"
    },
    {
     "data": {
      "text/html": [
       "<center><h2>Top 10 derechos otorgados Antofagasta</h2></center>"
      ],
      "text/plain": [
       "<IPython.core.display.HTML object>"
      ]
     },
     "metadata": {},
     "output_type": "display_data"
    },
    {
     "data": {
      "text/html": [
       "<div>\n",
       "<table border=\"1\" class=\"dataframe\">\n",
       "  <thead>\n",
       "    <tr style=\"text-align: right;\">\n",
       "      <th></th>\n",
       "      <th>Nombre Solicitante</th>\n",
       "      <th>Caudal AnualProm</th>\n",
       "    </tr>\n",
       "    <tr>\n",
       "      <th>Fecha de Resolución Envío al Juez Inscripción C.B.R.</th>\n",
       "      <th></th>\n",
       "      <th></th>\n",
       "    </tr>\n",
       "  </thead>\n",
       "  <tbody>\n",
       "    <tr>\n",
       "      <th>1914-09-10</th>\n",
       "      <td>CHILE ESPLORATION CO.</td>\n",
       "      <td>4000.00</td>\n",
       "    </tr>\n",
       "    <tr>\n",
       "      <th>1914-09-10</th>\n",
       "      <td>CHILE ESPLORATION CO.</td>\n",
       "      <td>2300.00</td>\n",
       "    </tr>\n",
       "    <tr>\n",
       "      <th>1921-05-04</th>\n",
       "      <td>CHILE ESPLORATION CO.</td>\n",
       "      <td>2000.00</td>\n",
       "    </tr>\n",
       "    <tr>\n",
       "      <th>1914-09-10</th>\n",
       "      <td>CHILE ESPLORATION CO.</td>\n",
       "      <td>1950.00</td>\n",
       "    </tr>\n",
       "    <tr>\n",
       "      <th>1925-02-09</th>\n",
       "      <td>SOCIEDAD DE ONIX Y MARMOLES</td>\n",
       "      <td>1000.00</td>\n",
       "    </tr>\n",
       "    <tr>\n",
       "      <th>1923-10-19</th>\n",
       "      <td>SOCIEDAD DE ONIX Y MARMOLES</td>\n",
       "      <td>1000.00</td>\n",
       "    </tr>\n",
       "    <tr>\n",
       "      <th>1919-05-02</th>\n",
       "      <td>CHILE ESPLORATION CO.</td>\n",
       "      <td>500.00</td>\n",
       "    </tr>\n",
       "    <tr>\n",
       "      <th>1914-07-11</th>\n",
       "      <td>FERROCARRIL DE  ANTOFAGASTA A  BOLIVIA (F.C.A.B.)</td>\n",
       "      <td>206.41</td>\n",
       "    </tr>\n",
       "    <tr>\n",
       "      <th>2012-01-13</th>\n",
       "      <td>CARLOS ARTURO CLAUSSEN CALVO</td>\n",
       "      <td>200.00</td>\n",
       "    </tr>\n",
       "    <tr>\n",
       "      <th>1914-09-10</th>\n",
       "      <td>CHILE ESPLORATION CO.</td>\n",
       "      <td>175.00</td>\n",
       "    </tr>\n",
       "  </tbody>\n",
       "</table>\n",
       "</div>"
      ],
      "text/plain": [
       "                                                                                   Nombre Solicitante  \\\n",
       "Fecha de Resolución Envío al Juez Inscripción C...                                                      \n",
       "1914-09-10                                                                      CHILE ESPLORATION CO.   \n",
       "1914-09-10                                                                      CHILE ESPLORATION CO.   \n",
       "1921-05-04                                                                      CHILE ESPLORATION CO.   \n",
       "1914-09-10                                                                      CHILE ESPLORATION CO.   \n",
       "1925-02-09                                                                SOCIEDAD DE ONIX Y MARMOLES   \n",
       "1923-10-19                                                                SOCIEDAD DE ONIX Y MARMOLES   \n",
       "1919-05-02                                                                      CHILE ESPLORATION CO.   \n",
       "1914-07-11                                          FERROCARRIL DE  ANTOFAGASTA A  BOLIVIA (F.C.A.B.)   \n",
       "2012-01-13                                                               CARLOS ARTURO CLAUSSEN CALVO   \n",
       "1914-09-10                                                                      CHILE ESPLORATION CO.   \n",
       "\n",
       "                                                    Caudal AnualProm  \n",
       "Fecha de Resolución Envío al Juez Inscripción C...                    \n",
       "1914-09-10                                                   4000.00  \n",
       "1914-09-10                                                   2300.00  \n",
       "1921-05-04                                                   2000.00  \n",
       "1914-09-10                                                   1950.00  \n",
       "1925-02-09                                                   1000.00  \n",
       "1923-10-19                                                   1000.00  \n",
       "1919-05-02                                                    500.00  \n",
       "1914-07-11                                                    206.41  \n",
       "2012-01-13                                                    200.00  \n",
       "1914-09-10                                                    175.00  "
      ]
     },
     "metadata": {},
     "output_type": "display_data"
    },
    {
     "data": {
      "image/png": "[encoded data removed]",
      "text/plain": [
       "<matplotlib.figure.Figure at 0xa6ea518>"
      ]
     },
     "metadata": {},
     "output_type": "display_data"
    }
   ],
   "source": [
    "for p in gb.groups.keys():\n",
    "    \n",
    "    display(HTML('<center><h2>Top 10 derechos otorgados %s</h2></center>'%p))\n",
    "    display(top_ddaa(gb.get_group(p), n=10))\n",
    "    ax = gb.get_group(p)[short['caudal']].plot(title='Derechos otorgados %s'%p, style='x', figsize=(15, 7.5))\n",
    "    zoom(ax)\n",
    "    plt.show()"
   ]
  },
  {
   "cell_type": "code",
   "execution_count": 7,
   "metadata": {
    "collapsed": false
   },
   "outputs": [
    {
     "data": {
      "text/html": [
       "<div>\n",
       "<table border=\"1\" class=\"dataframe\">\n",
       "  <thead>\n",
       "    <tr style=\"text-align: right;\">\n",
       "      <th></th>\n",
       "      <th>Naturaleza del Agua</th>\n",
       "      <th>Ejercicio del Derecho</th>\n",
       "      <th>Tipo Derecho</th>\n",
       "      <th>Nombre Solicitante</th>\n",
       "      <th>Clasificación Fuente</th>\n",
       "      <th>Caudal AnualProm</th>\n",
       "    </tr>\n",
       "    <tr>\n",
       "      <th>Fecha de Resolución Envío al Juez Inscripción C.B.R.</th>\n",
       "      <th></th>\n",
       "      <th></th>\n",
       "      <th></th>\n",
       "      <th></th>\n",
       "      <th></th>\n",
       "      <th></th>\n",
       "    </tr>\n",
       "  </thead>\n",
       "  <tbody>\n",
       "    <tr>\n",
       "      <th>2001-06-21</th>\n",
       "      <td>Subterranea</td>\n",
       "      <td>Permanente y Continuo</td>\n",
       "      <td>Consuntivo</td>\n",
       "      <td>FISCO, DIRECCION GENERAL DE OBRAS PUBLICAS M.O.P.</td>\n",
       "      <td>Acuifero</td>\n",
       "      <td>40.0</td>\n",
       "    </tr>\n",
       "    <tr>\n",
       "      <th>1983-07-29</th>\n",
       "      <td>Subterranea</td>\n",
       "      <td>Permanente y Continuo</td>\n",
       "      <td>Consuntivo</td>\n",
       "      <td>FISCO EJERCITO DE CHILE.</td>\n",
       "      <td>Acuifero</td>\n",
       "      <td>60.0</td>\n",
       "    </tr>\n",
       "    <tr>\n",
       "      <th>2002-09-03</th>\n",
       "      <td>Superficial y Corriente</td>\n",
       "      <td>Eventual y Continuo</td>\n",
       "      <td>Consuntivo</td>\n",
       "      <td>FISCO - EJERCITO DE CHILE</td>\n",
       "      <td>Vertiente</td>\n",
       "      <td>0.7</td>\n",
       "    </tr>\n",
       "    <tr>\n",
       "      <th>1977-08-01</th>\n",
       "      <td>Superficial y Corriente</td>\n",
       "      <td>Permanente y Continuo</td>\n",
       "      <td>Consuntivo</td>\n",
       "      <td>FISCO (DIRECCION DE OBRAS SANITARIAS)</td>\n",
       "      <td>Rio/Estero</td>\n",
       "      <td>600.0</td>\n",
       "    </tr>\n",
       "  </tbody>\n",
       "</table>\n",
       "</div>"
      ],
      "text/plain": [
       "                                                        Naturaleza del Agua  \\\n",
       "Fecha de Resolución Envío al Juez Inscripción C...                            \n",
       "2001-06-21                                                      Subterranea   \n",
       "1983-07-29                                                      Subterranea   \n",
       "2002-09-03                                          Superficial y Corriente   \n",
       "1977-08-01                                          Superficial y Corriente   \n",
       "\n",
       "                                                    Ejercicio del Derecho  \\\n",
       "Fecha de Resolución Envío al Juez Inscripción C...                          \n",
       "2001-06-21                                          Permanente y Continuo   \n",
       "1983-07-29                                          Permanente y Continuo   \n",
       "2002-09-03                                            Eventual y Continuo   \n",
       "1977-08-01                                          Permanente y Continuo   \n",
       "\n",
       "                                                   Tipo Derecho  \\\n",
       "Fecha de Resolución Envío al Juez Inscripción C...                \n",
       "2001-06-21                                           Consuntivo   \n",
       "1983-07-29                                           Consuntivo   \n",
       "2002-09-03                                           Consuntivo   \n",
       "1977-08-01                                           Consuntivo   \n",
       "\n",
       "                                                                                   Nombre Solicitante  \\\n",
       "Fecha de Resolución Envío al Juez Inscripción C...                                                      \n",
       "2001-06-21                                          FISCO, DIRECCION GENERAL DE OBRAS PUBLICAS M.O.P.   \n",
       "1983-07-29                                                                   FISCO EJERCITO DE CHILE.   \n",
       "2002-09-03                                                                  FISCO - EJERCITO DE CHILE   \n",
       "1977-08-01                                                      FISCO (DIRECCION DE OBRAS SANITARIAS)   \n",
       "\n",
       "                                                   Clasificación Fuente  \\\n",
       "Fecha de Resolución Envío al Juez Inscripción C...                        \n",
       "2001-06-21                                                     Acuifero   \n",
       "1983-07-29                                                     Acuifero   \n",
       "2002-09-03                                                    Vertiente   \n",
       "1977-08-01                                                   Rio/Estero   \n",
       "\n",
       "                                                    Caudal AnualProm  \n",
       "Fecha de Resolución Envío al Juez Inscripción C...                    \n",
       "2001-06-21                                                      40.0  \n",
       "1983-07-29                                                      60.0  \n",
       "2002-09-03                                                       0.7  \n",
       "1977-08-01                                                     600.0  "
      ]
     },
     "execution_count": 7,
     "metadata": {},
     "output_type": "execute_result"
    }
   ],
   "source": [
    "busca(df, 'FISCO')"
   ]
  },
  {
   "cell_type": "code",
   "execution_count": 8,
   "metadata": {
    "collapsed": false
   },
   "outputs": [
    {
     "name": "stdout",
     "output_type": "stream",
     "text": [
      "Derechos reservados por el FISCO en la Region II:\n",
      "700.7 [l/s]\n"
     ]
    }
   ],
   "source": [
    "print 'Derechos reservados por el FISCO en la Region %s:' % region\n",
    "print '%s [l/s]' % busca(df, 'FISCO')[short['caudal']].sum()"
   ]
  },
  {
   "cell_type": "code",
   "execution_count": null,
   "metadata": {
    "collapsed": true
   },
   "outputs": [],
   "source": []
  }
 ],
 "metadata": {
  "kernelspec": {
   "display_name": "Python 2",
   "language": "python",
   "name": "python2"
  },
  "language_info": {
   "codemirror_mode": {
    "name": "ipython",
    "version": 2
   },
   "file_extension": ".py",
   "mimetype": "text/x-python",
   "name": "python",
   "nbconvert_exporter": "python",
   "pygments_lexer": "ipython2",
   "version": "2.7.11"
  }
 },
 "nbformat": 4,
 "nbformat_minor": 0
}
